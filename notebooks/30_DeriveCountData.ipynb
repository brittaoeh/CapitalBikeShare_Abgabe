{
 "cells": [
  {
   "cell_type": "markdown",
   "metadata": {
    "ExecuteTime": {
     "end_time": "2020-05-13T18:56:42.266214Z",
     "start_time": "2020-05-13T18:56:42.134210Z"
    }
   },
   "source": [
    "# Capital Bikeshare: Anlayse und Prognose der Ausleihvorgänge"
   ]
  },
  {
   "cell_type": "markdown",
   "metadata": {
    "ExecuteTime": {
     "end_time": "2020-05-13T18:58:19.608800Z",
     "start_time": "2020-05-13T18:58:19.605007Z"
    }
   },
   "source": [
    "## 30 - Ermittlung Anzahl Fahrräder nach Vorgangsart pro Station, Tag und Stunde"
   ]
  },
  {
   "cell_type": "markdown",
   "metadata": {},
   "source": [
    "**Hinweis:** Nur Notebooks mit ganzen *10*er-Nummern gehören zur eigentlichen Verarbeitungs-Pipeline und müssen der Größe nach ausgeführt werden, da spätere Notebooks (die mit einer größeren Anfangsnummer) Daten aus den vorherigen Notebooks verwenden."
   ]
  },
  {
   "cell_type": "markdown",
   "metadata": {},
   "source": [
    "Relevant sind die Vorgänge Initialisierung (erste Nutzung eines *neuen* Fahrrades), Umverteilungen zwischen Stationen sowie reguläre Entnahmen und Rückgaben sowie die Deltas bezogen auf alle Vorgänge und die kumulierten Summen pro Station."
   ]
  },
  {
   "cell_type": "code",
   "execution_count": 1,
   "metadata": {
    "ExecuteTime": {
     "end_time": "2020-07-22T14:14:26.643175Z",
     "start_time": "2020-07-22T14:14:26.232124Z"
    }
   },
   "outputs": [],
   "source": [
    "import datetime\n",
    "import pandas as pd"
   ]
  },
  {
   "cell_type": "code",
   "execution_count": 2,
   "metadata": {
    "ExecuteTime": {
     "end_time": "2020-07-22T14:14:27.010724Z",
     "start_time": "2020-07-22T14:14:27.008021Z"
    }
   },
   "outputs": [],
   "source": [
    "DATA_PATH = '../data/'\n",
    "TRIPS_FILE = 'trips_clean.pkl'\n",
    "COUNTS_FILE = 'counts.pkl'\n",
    "COUNT_KEY_LIST = ['station_id', 'date', 'hour', 'Member type']"
   ]
  },
  {
   "cell_type": "code",
   "execution_count": null,
   "metadata": {},
   "outputs": [],
   "source": []
  },
  {
   "cell_type": "code",
   "execution_count": 3,
   "metadata": {
    "ExecuteTime": {
     "end_time": "2020-07-22T14:14:30.418236Z",
     "start_time": "2020-07-22T14:14:29.046873Z"
    }
   },
   "outputs": [],
   "source": [
    "df_trips = pd.read_pickle(DATA_PATH+TRIPS_FILE)"
   ]
  },
  {
   "cell_type": "code",
   "execution_count": 4,
   "metadata": {
    "ExecuteTime": {
     "end_time": "2020-07-22T14:14:31.003548Z",
     "start_time": "2020-07-22T14:14:30.983878Z"
    }
   },
   "outputs": [
    {
     "data": {
      "text/html": [
       "<div>\n",
       "<style scoped>\n",
       "    .dataframe tbody tr th:only-of-type {\n",
       "        vertical-align: middle;\n",
       "    }\n",
       "\n",
       "    .dataframe tbody tr th {\n",
       "        vertical-align: top;\n",
       "    }\n",
       "\n",
       "    .dataframe thead th {\n",
       "        text-align: right;\n",
       "    }\n",
       "</style>\n",
       "<table border=\"1\" class=\"dataframe\">\n",
       "  <thead>\n",
       "    <tr style=\"text-align: right;\">\n",
       "      <th></th>\n",
       "      <th>start_ts</th>\n",
       "      <th>end_ts</th>\n",
       "      <th>start_station_id</th>\n",
       "      <th>end_station_id</th>\n",
       "      <th>bike_number</th>\n",
       "      <th>Member type</th>\n",
       "      <th>start_date</th>\n",
       "      <th>start_hour</th>\n",
       "      <th>end_date</th>\n",
       "      <th>end_hour</th>\n",
       "    </tr>\n",
       "  </thead>\n",
       "  <tbody>\n",
       "    <tr>\n",
       "      <th>130487</th>\n",
       "      <td>2015-10-15 10:58:35</td>\n",
       "      <td>2015-10-15 14:57:10</td>\n",
       "      <td>31219</td>\n",
       "      <td>31634</td>\n",
       "      <td>?(0x0000000074BEBCE4)</td>\n",
       "      <td>Member</td>\n",
       "      <td>2015-10-15</td>\n",
       "      <td>10</td>\n",
       "      <td>2015-10-15</td>\n",
       "      <td>14</td>\n",
       "    </tr>\n",
       "    <tr>\n",
       "      <th>193289</th>\n",
       "      <td>2016-10-18 10:54:16</td>\n",
       "      <td>2016-10-18 11:19:17</td>\n",
       "      <td>31292</td>\n",
       "      <td>31292</td>\n",
       "      <td>?(0x0000000074BEBCE4)</td>\n",
       "      <td>Member</td>\n",
       "      <td>2016-10-18</td>\n",
       "      <td>10</td>\n",
       "      <td>2016-10-18</td>\n",
       "      <td>11</td>\n",
       "    </tr>\n",
       "    <tr>\n",
       "      <th>207012</th>\n",
       "      <td>2016-10-19 12:20:37</td>\n",
       "      <td>2016-10-19 12:32:45</td>\n",
       "      <td>31618</td>\n",
       "      <td>31618</td>\n",
       "      <td>?(0x0000000074BEBCE4)</td>\n",
       "      <td>Member</td>\n",
       "      <td>2016-10-19</td>\n",
       "      <td>12</td>\n",
       "      <td>2016-10-19</td>\n",
       "      <td>12</td>\n",
       "    </tr>\n",
       "    <tr>\n",
       "      <th>241628</th>\n",
       "      <td>2016-10-22 12:07:42</td>\n",
       "      <td>2016-10-22 12:26:22</td>\n",
       "      <td>31249</td>\n",
       "      <td>31249</td>\n",
       "      <td>?(0x0000000074BEBCE4)</td>\n",
       "      <td>Member</td>\n",
       "      <td>2016-10-22</td>\n",
       "      <td>12</td>\n",
       "      <td>2016-10-22</td>\n",
       "      <td>12</td>\n",
       "    </tr>\n",
       "    <tr>\n",
       "      <th>242374</th>\n",
       "      <td>2016-10-22 13:01:26</td>\n",
       "      <td>2016-10-22 13:30:08</td>\n",
       "      <td>31249</td>\n",
       "      <td>31249</td>\n",
       "      <td>?(0x0000000074BEBCE4)</td>\n",
       "      <td>Member</td>\n",
       "      <td>2016-10-22</td>\n",
       "      <td>13</td>\n",
       "      <td>2016-10-22</td>\n",
       "      <td>13</td>\n",
       "    </tr>\n",
       "  </tbody>\n",
       "</table>\n",
       "</div>"
      ],
      "text/plain": [
       "                  start_ts              end_ts  start_station_id  \\\n",
       "130487 2015-10-15 10:58:35 2015-10-15 14:57:10             31219   \n",
       "193289 2016-10-18 10:54:16 2016-10-18 11:19:17             31292   \n",
       "207012 2016-10-19 12:20:37 2016-10-19 12:32:45             31618   \n",
       "241628 2016-10-22 12:07:42 2016-10-22 12:26:22             31249   \n",
       "242374 2016-10-22 13:01:26 2016-10-22 13:30:08             31249   \n",
       "\n",
       "        end_station_id            bike_number Member type start_date  \\\n",
       "130487           31634  ?(0x0000000074BEBCE4)      Member 2015-10-15   \n",
       "193289           31292  ?(0x0000000074BEBCE4)      Member 2016-10-18   \n",
       "207012           31618  ?(0x0000000074BEBCE4)      Member 2016-10-19   \n",
       "241628           31249  ?(0x0000000074BEBCE4)      Member 2016-10-22   \n",
       "242374           31249  ?(0x0000000074BEBCE4)      Member 2016-10-22   \n",
       "\n",
       "        start_hour   end_date  end_hour  \n",
       "130487          10 2015-10-15        14  \n",
       "193289          10 2016-10-18        11  \n",
       "207012          12 2016-10-19        12  \n",
       "241628          12 2016-10-22        12  \n",
       "242374          13 2016-10-22        13  "
      ]
     },
     "execution_count": 4,
     "metadata": {},
     "output_type": "execute_result"
    }
   ],
   "source": [
    "df_trips.head()"
   ]
  },
  {
   "cell_type": "code",
   "execution_count": null,
   "metadata": {},
   "outputs": [],
   "source": []
  },
  {
   "cell_type": "code",
   "execution_count": null,
   "metadata": {},
   "outputs": [],
   "source": []
  },
  {
   "cell_type": "code",
   "execution_count": 5,
   "metadata": {
    "ExecuteTime": {
     "end_time": "2020-07-22T14:14:33.875100Z",
     "start_time": "2020-07-22T14:14:33.870836Z"
    }
   },
   "outputs": [],
   "source": [
    "# Funktion zum Gruppieren der Zeilen nach Station, Tag und Stunde \n",
    "# für Ausleihe (start/out) \n",
    "# oder Rückgaben (end/in)\n",
    "def group_by_hour(df, prefix='start', suffix='out'): \n",
    "    col_station, col_date, col_hour, col_Member = prefix+'_station_id', prefix+'_date', prefix+'_hour', 'Member type'\n",
    "    ret =  df.groupby(by=[col_station, col_date, col_hour, 'Member type']\n",
    "                       )[col_hour].agg('count').to_frame('count_'+suffix)\n",
    "    # Reihenfolge der COUNT_KEY_LIST muss oben natürlich beachtet werden!\n",
    "    ret.index.names = COUNT_KEY_LIST\n",
    "    return ret\n"
   ]
  },
  {
   "cell_type": "code",
   "execution_count": null,
   "metadata": {},
   "outputs": [],
   "source": []
  },
  {
   "cell_type": "code",
   "execution_count": 6,
   "metadata": {
    "ExecuteTime": {
     "end_time": "2020-07-22T14:14:40.387336Z",
     "start_time": "2020-07-22T14:14:34.823396Z"
    }
   },
   "outputs": [],
   "source": [
    "# Gruppierung der Leih-Transaktionen für Ausleihen (start/out) und Rückgaben (end/in)\n",
    "df_count_out = group_by_hour(df_trips, prefix='start', suffix='out')\n",
    "df_count_in = group_by_hour(df_trips, prefix='end', suffix='in')"
   ]
  },
  {
   "cell_type": "code",
   "execution_count": 7,
   "metadata": {
    "ExecuteTime": {
     "end_time": "2020-07-22T14:14:40.404243Z",
     "start_time": "2020-07-22T14:14:40.389645Z"
    }
   },
   "outputs": [
    {
     "data": {
      "text/html": [
       "<div>\n",
       "<style scoped>\n",
       "    .dataframe tbody tr th:only-of-type {\n",
       "        vertical-align: middle;\n",
       "    }\n",
       "\n",
       "    .dataframe tbody tr th {\n",
       "        vertical-align: top;\n",
       "    }\n",
       "\n",
       "    .dataframe thead th {\n",
       "        text-align: right;\n",
       "    }\n",
       "</style>\n",
       "<table border=\"1\" class=\"dataframe\">\n",
       "  <thead>\n",
       "    <tr style=\"text-align: right;\">\n",
       "      <th></th>\n",
       "      <th></th>\n",
       "      <th></th>\n",
       "      <th></th>\n",
       "      <th>count_out</th>\n",
       "    </tr>\n",
       "    <tr>\n",
       "      <th>station_id</th>\n",
       "      <th>date</th>\n",
       "      <th>hour</th>\n",
       "      <th>Member type</th>\n",
       "      <th></th>\n",
       "    </tr>\n",
       "  </thead>\n",
       "  <tbody>\n",
       "    <tr>\n",
       "      <th rowspan=\"5\" valign=\"top\">31000</th>\n",
       "      <th rowspan=\"3\" valign=\"top\">2015-01-01</th>\n",
       "      <th>10</th>\n",
       "      <th>Member</th>\n",
       "      <td>1</td>\n",
       "    </tr>\n",
       "    <tr>\n",
       "      <th rowspan=\"2\" valign=\"top\">17</th>\n",
       "      <th>Casual</th>\n",
       "      <td>4</td>\n",
       "    </tr>\n",
       "    <tr>\n",
       "      <th>Member</th>\n",
       "      <td>1</td>\n",
       "    </tr>\n",
       "    <tr>\n",
       "      <th rowspan=\"2\" valign=\"top\">2015-01-02</th>\n",
       "      <th>11</th>\n",
       "      <th>Member</th>\n",
       "      <td>1</td>\n",
       "    </tr>\n",
       "    <tr>\n",
       "      <th>15</th>\n",
       "      <th>Member</th>\n",
       "      <td>1</td>\n",
       "    </tr>\n",
       "  </tbody>\n",
       "</table>\n",
       "</div>"
      ],
      "text/plain": [
       "                                        count_out\n",
       "station_id date       hour Member type           \n",
       "31000      2015-01-01 10   Member               1\n",
       "                      17   Casual               4\n",
       "                           Member               1\n",
       "           2015-01-02 11   Member               1\n",
       "                      15   Member               1"
      ]
     },
     "execution_count": 7,
     "metadata": {},
     "output_type": "execute_result"
    }
   ],
   "source": [
    "df_count_out.head()"
   ]
  },
  {
   "cell_type": "code",
   "execution_count": 8,
   "metadata": {
    "ExecuteTime": {
     "end_time": "2020-07-22T14:14:40.419440Z",
     "start_time": "2020-07-22T14:14:40.408958Z"
    }
   },
   "outputs": [
    {
     "data": {
      "text/html": [
       "<div>\n",
       "<style scoped>\n",
       "    .dataframe tbody tr th:only-of-type {\n",
       "        vertical-align: middle;\n",
       "    }\n",
       "\n",
       "    .dataframe tbody tr th {\n",
       "        vertical-align: top;\n",
       "    }\n",
       "\n",
       "    .dataframe thead th {\n",
       "        text-align: right;\n",
       "    }\n",
       "</style>\n",
       "<table border=\"1\" class=\"dataframe\">\n",
       "  <thead>\n",
       "    <tr style=\"text-align: right;\">\n",
       "      <th></th>\n",
       "      <th></th>\n",
       "      <th></th>\n",
       "      <th></th>\n",
       "      <th>count_in</th>\n",
       "    </tr>\n",
       "    <tr>\n",
       "      <th>station_id</th>\n",
       "      <th>date</th>\n",
       "      <th>hour</th>\n",
       "      <th>Member type</th>\n",
       "      <th></th>\n",
       "    </tr>\n",
       "  </thead>\n",
       "  <tbody>\n",
       "    <tr>\n",
       "      <th rowspan=\"5\" valign=\"top\">31000</th>\n",
       "      <th rowspan=\"2\" valign=\"top\">2015-01-01</th>\n",
       "      <th>10</th>\n",
       "      <th>Member</th>\n",
       "      <td>1</td>\n",
       "    </tr>\n",
       "    <tr>\n",
       "      <th>23</th>\n",
       "      <th>Member</th>\n",
       "      <td>1</td>\n",
       "    </tr>\n",
       "    <tr>\n",
       "      <th>2015-01-02</th>\n",
       "      <th>16</th>\n",
       "      <th>Member</th>\n",
       "      <td>1</td>\n",
       "    </tr>\n",
       "    <tr>\n",
       "      <th rowspan=\"2\" valign=\"top\">2015-01-04</th>\n",
       "      <th>15</th>\n",
       "      <th>Member</th>\n",
       "      <td>1</td>\n",
       "    </tr>\n",
       "    <tr>\n",
       "      <th>17</th>\n",
       "      <th>Member</th>\n",
       "      <td>1</td>\n",
       "    </tr>\n",
       "  </tbody>\n",
       "</table>\n",
       "</div>"
      ],
      "text/plain": [
       "                                        count_in\n",
       "station_id date       hour Member type          \n",
       "31000      2015-01-01 10   Member              1\n",
       "                      23   Member              1\n",
       "           2015-01-02 16   Member              1\n",
       "           2015-01-04 15   Member              1\n",
       "                      17   Member              1"
      ]
     },
     "execution_count": 8,
     "metadata": {},
     "output_type": "execute_result"
    }
   ],
   "source": [
    "df_count_in.head()"
   ]
  },
  {
   "cell_type": "code",
   "execution_count": 9,
   "metadata": {
    "ExecuteTime": {
     "end_time": "2020-07-22T14:14:42.599542Z",
     "start_time": "2020-07-22T14:14:42.590611Z"
    }
   },
   "outputs": [
    {
     "data": {
      "text/plain": [
       "(10277653, 10277653)"
      ]
     },
     "execution_count": 9,
     "metadata": {},
     "output_type": "execute_result"
    }
   ],
   "source": [
    "# Überprüfung der Zahlen ... Summen müssen gleich sein\n",
    "df_count_out['count_out'].sum(), df_count_in['count_in'].sum()"
   ]
  },
  {
   "cell_type": "code",
   "execution_count": 10,
   "metadata": {
    "ExecuteTime": {
     "end_time": "2020-07-22T14:14:46.479070Z",
     "start_time": "2020-07-22T14:14:43.806623Z"
    }
   },
   "outputs": [],
   "source": [
    "# Ein- und Ausgänge per Outer-Join kombinieren\n",
    "df_counts = df_count_in.join(df_count_out, on=COUNT_KEY_LIST, how='outer')"
   ]
  },
  {
   "cell_type": "code",
   "execution_count": 11,
   "metadata": {
    "ExecuteTime": {
     "end_time": "2020-07-22T14:14:46.494474Z",
     "start_time": "2020-07-22T14:14:46.481406Z"
    }
   },
   "outputs": [
    {
     "data": {
      "text/html": [
       "<div>\n",
       "<style scoped>\n",
       "    .dataframe tbody tr th:only-of-type {\n",
       "        vertical-align: middle;\n",
       "    }\n",
       "\n",
       "    .dataframe tbody tr th {\n",
       "        vertical-align: top;\n",
       "    }\n",
       "\n",
       "    .dataframe thead th {\n",
       "        text-align: right;\n",
       "    }\n",
       "</style>\n",
       "<table border=\"1\" class=\"dataframe\">\n",
       "  <thead>\n",
       "    <tr style=\"text-align: right;\">\n",
       "      <th></th>\n",
       "      <th></th>\n",
       "      <th></th>\n",
       "      <th></th>\n",
       "      <th>count_in</th>\n",
       "      <th>count_out</th>\n",
       "    </tr>\n",
       "    <tr>\n",
       "      <th>station_id</th>\n",
       "      <th>date</th>\n",
       "      <th>hour</th>\n",
       "      <th>Member type</th>\n",
       "      <th></th>\n",
       "      <th></th>\n",
       "    </tr>\n",
       "  </thead>\n",
       "  <tbody>\n",
       "    <tr>\n",
       "      <th rowspan=\"5\" valign=\"top\">31000</th>\n",
       "      <th rowspan=\"2\" valign=\"top\">2015-01-01</th>\n",
       "      <th>10</th>\n",
       "      <th>Member</th>\n",
       "      <td>1.0</td>\n",
       "      <td>1.0</td>\n",
       "    </tr>\n",
       "    <tr>\n",
       "      <th>23</th>\n",
       "      <th>Member</th>\n",
       "      <td>1.0</td>\n",
       "      <td>NaN</td>\n",
       "    </tr>\n",
       "    <tr>\n",
       "      <th>2015-01-02</th>\n",
       "      <th>16</th>\n",
       "      <th>Member</th>\n",
       "      <td>1.0</td>\n",
       "      <td>NaN</td>\n",
       "    </tr>\n",
       "    <tr>\n",
       "      <th rowspan=\"2\" valign=\"top\">2015-01-04</th>\n",
       "      <th>15</th>\n",
       "      <th>Member</th>\n",
       "      <td>1.0</td>\n",
       "      <td>NaN</td>\n",
       "    </tr>\n",
       "    <tr>\n",
       "      <th>17</th>\n",
       "      <th>Member</th>\n",
       "      <td>1.0</td>\n",
       "      <td>NaN</td>\n",
       "    </tr>\n",
       "  </tbody>\n",
       "</table>\n",
       "</div>"
      ],
      "text/plain": [
       "                                        count_in  count_out\n",
       "station_id date       hour Member type                     \n",
       "31000      2015-01-01 10   Member            1.0        1.0\n",
       "                      23   Member            1.0        NaN\n",
       "           2015-01-02 16   Member            1.0        NaN\n",
       "           2015-01-04 15   Member            1.0        NaN\n",
       "                      17   Member            1.0        NaN"
      ]
     },
     "execution_count": 11,
     "metadata": {},
     "output_type": "execute_result"
    }
   ],
   "source": [
    "df_counts.head()"
   ]
  },
  {
   "cell_type": "code",
   "execution_count": null,
   "metadata": {},
   "outputs": [],
   "source": []
  },
  {
   "cell_type": "code",
   "execution_count": 12,
   "metadata": {
    "ExecuteTime": {
     "end_time": "2020-07-22T14:14:47.290180Z",
     "start_time": "2020-07-22T14:14:47.287564Z"
    }
   },
   "outputs": [],
   "source": [
    "# Im Folgenden soll ein vollständiger Index-DataFrame erzeugt werden, \n",
    "# der für jede Station für jede Stunde zwischen der ersten und letzten \n",
    "# Entnahme/Rückgabe einen Eintrag hat.\n",
    "# Der Count-DataFrame wird dann damit per Left-Join verbunden, damit \n",
    "# der DataFrame lücklos für jede Stunde eine Zeile hat."
   ]
  },
  {
   "cell_type": "code",
   "execution_count": 13,
   "metadata": {
    "ExecuteTime": {
     "end_time": "2020-07-22T14:14:48.832931Z",
     "start_time": "2020-07-22T14:14:48.829647Z"
    }
   },
   "outputs": [],
   "source": [
    "# Erzeuge Index für alle Tage von first bis last mit allen Stunden\n",
    "def create_hour_index(date_first, date_last):\n",
    "    date_range = pd.date_range(date_first, date_last)\n",
    "    hour_range = range(0,24)\n",
    "    membertype =['Casual', 'Member']\n",
    "    return pd.MultiIndex.from_product([date_range, hour_range, membertype], names = ['date', 'hour', 'Member type'])"
   ]
  },
  {
   "cell_type": "code",
   "execution_count": 14,
   "metadata": {
    "ExecuteTime": {
     "end_time": "2020-07-22T14:14:49.507028Z",
     "start_time": "2020-07-22T14:14:49.502801Z"
    }
   },
   "outputs": [],
   "source": [
    "# Wählte alle Datensätze aus, bei denen Station_ID entsprechend des übergebenen Werts ist. StationID zählt nicht mehr zu Multi-Index\n",
    "# In index_first wird kleinste Kombi aus Datum und Stunde gespeichert, in Index_last größte\n",
    "def get_df_index_station(df, station_id):\n",
    "    station_index = df_counts.loc[station_id].index\n",
    "    index_first = station_index.min()\n",
    "    index_last = station_index.max()\n",
    "    df_index = pd.DataFrame(index=create_hour_index(index_first[0], index_last[0]))\n",
    "    df_index = df_index[index_first:index_last]\n",
    "    return pd.concat([df_index], keys=[station_id], names=['station_id'])\n",
    "   "
   ]
  },
  {
   "cell_type": "code",
   "execution_count": 15,
   "metadata": {
    "ExecuteTime": {
     "end_time": "2020-07-22T14:14:51.978485Z",
     "start_time": "2020-07-22T14:14:51.975303Z"
    }
   },
   "outputs": [],
   "source": [
    "# Erzeuge Index-DataFrame mit vollständiger Multi-Level-Index-Struktur\n",
    "# (Station, Tag, Stunde) für alle Station im Count-DataFrame (df)\n",
    "# Unterberücksichtigung des ersten und letzten bekannten Eintrags für\n",
    "# jede Station\n",
    "def get_df_index(df):\n",
    "    df_list = [get_df_index_station(df, station_id) for station_id in df.index.levels[0]]\n",
    "    return pd.concat(df_list)"
   ]
  },
  {
   "cell_type": "code",
   "execution_count": 16,
   "metadata": {
    "ExecuteTime": {
     "end_time": "2020-07-22T14:15:17.615376Z",
     "start_time": "2020-07-22T14:14:53.524346Z"
    }
   },
   "outputs": [],
   "source": [
    "# Index-DataFrame erzeugen\n",
    "df_index = get_df_index(df_counts)"
   ]
  },
  {
   "cell_type": "code",
   "execution_count": 17,
   "metadata": {
    "ExecuteTime": {
     "end_time": "2020-07-22T14:15:21.860015Z",
     "start_time": "2020-07-22T14:15:17.619255Z"
    }
   },
   "outputs": [],
   "source": [
    "# Aktuelle Counts-DataFrame dagegen joinen und überschreiben\n",
    "df_counts = df_index.join(df_counts, on=COUNT_KEY_LIST, how='left')"
   ]
  },
  {
   "cell_type": "code",
   "execution_count": 18,
   "metadata": {
    "ExecuteTime": {
     "end_time": "2020-07-22T14:15:21.879304Z",
     "start_time": "2020-07-22T14:15:21.862385Z"
    }
   },
   "outputs": [
    {
     "data": {
      "text/html": [
       "<div>\n",
       "<style scoped>\n",
       "    .dataframe tbody tr th:only-of-type {\n",
       "        vertical-align: middle;\n",
       "    }\n",
       "\n",
       "    .dataframe tbody tr th {\n",
       "        vertical-align: top;\n",
       "    }\n",
       "\n",
       "    .dataframe thead th {\n",
       "        text-align: right;\n",
       "    }\n",
       "</style>\n",
       "<table border=\"1\" class=\"dataframe\">\n",
       "  <thead>\n",
       "    <tr style=\"text-align: right;\">\n",
       "      <th></th>\n",
       "      <th></th>\n",
       "      <th></th>\n",
       "      <th></th>\n",
       "      <th>count_in</th>\n",
       "      <th>count_out</th>\n",
       "    </tr>\n",
       "    <tr>\n",
       "      <th>station_id</th>\n",
       "      <th>date</th>\n",
       "      <th>hour</th>\n",
       "      <th>Member type</th>\n",
       "      <th></th>\n",
       "      <th></th>\n",
       "    </tr>\n",
       "  </thead>\n",
       "  <tbody>\n",
       "    <tr>\n",
       "      <th rowspan=\"5\" valign=\"top\">31000</th>\n",
       "      <th rowspan=\"5\" valign=\"top\">2015-01-01</th>\n",
       "      <th>10</th>\n",
       "      <th>Member</th>\n",
       "      <td>1.0</td>\n",
       "      <td>1.0</td>\n",
       "    </tr>\n",
       "    <tr>\n",
       "      <th rowspan=\"2\" valign=\"top\">11</th>\n",
       "      <th>Casual</th>\n",
       "      <td>NaN</td>\n",
       "      <td>NaN</td>\n",
       "    </tr>\n",
       "    <tr>\n",
       "      <th>Member</th>\n",
       "      <td>NaN</td>\n",
       "      <td>NaN</td>\n",
       "    </tr>\n",
       "    <tr>\n",
       "      <th rowspan=\"2\" valign=\"top\">12</th>\n",
       "      <th>Casual</th>\n",
       "      <td>NaN</td>\n",
       "      <td>NaN</td>\n",
       "    </tr>\n",
       "    <tr>\n",
       "      <th>Member</th>\n",
       "      <td>NaN</td>\n",
       "      <td>NaN</td>\n",
       "    </tr>\n",
       "  </tbody>\n",
       "</table>\n",
       "</div>"
      ],
      "text/plain": [
       "                                        count_in  count_out\n",
       "station_id date       hour Member type                     \n",
       "31000      2015-01-01 10   Member            1.0        1.0\n",
       "                      11   Casual            NaN        NaN\n",
       "                           Member            NaN        NaN\n",
       "                      12   Casual            NaN        NaN\n",
       "                           Member            NaN        NaN"
      ]
     },
     "execution_count": 18,
     "metadata": {},
     "output_type": "execute_result"
    }
   ],
   "source": [
    "df_counts.head()"
   ]
  },
  {
   "cell_type": "code",
   "execution_count": null,
   "metadata": {},
   "outputs": [],
   "source": []
  },
  {
   "cell_type": "code",
   "execution_count": 19,
   "metadata": {
    "ExecuteTime": {
     "end_time": "2020-07-22T14:18:49.892468Z",
     "start_time": "2020-07-22T14:18:49.826471Z"
    }
   },
   "outputs": [],
   "source": [
    "# fehlende Werte (keine Trips) auf 0 setzen\n",
    "df_counts.fillna(value=0.0, inplace=True)"
   ]
  },
  {
   "cell_type": "code",
   "execution_count": 20,
   "metadata": {
    "ExecuteTime": {
     "end_time": "2020-07-22T14:18:53.469048Z",
     "start_time": "2020-07-22T14:18:53.358571Z"
    }
   },
   "outputs": [],
   "source": [
    "# Jetzt können alle Count-Werte in integer umgewandelt werden (war float wegen fehlender Werte)\n",
    "df_counts = df_counts.astype(int)"
   ]
  },
  {
   "cell_type": "code",
   "execution_count": 21,
   "metadata": {
    "ExecuteTime": {
     "end_time": "2020-07-22T14:19:03.117955Z",
     "start_time": "2020-07-22T14:19:03.109153Z"
    }
   },
   "outputs": [
    {
     "data": {
      "text/html": [
       "<div>\n",
       "<style scoped>\n",
       "    .dataframe tbody tr th:only-of-type {\n",
       "        vertical-align: middle;\n",
       "    }\n",
       "\n",
       "    .dataframe tbody tr th {\n",
       "        vertical-align: top;\n",
       "    }\n",
       "\n",
       "    .dataframe thead th {\n",
       "        text-align: right;\n",
       "    }\n",
       "</style>\n",
       "<table border=\"1\" class=\"dataframe\">\n",
       "  <thead>\n",
       "    <tr style=\"text-align: right;\">\n",
       "      <th></th>\n",
       "      <th></th>\n",
       "      <th></th>\n",
       "      <th></th>\n",
       "      <th>count_in</th>\n",
       "      <th>count_out</th>\n",
       "    </tr>\n",
       "    <tr>\n",
       "      <th>station_id</th>\n",
       "      <th>date</th>\n",
       "      <th>hour</th>\n",
       "      <th>Member type</th>\n",
       "      <th></th>\n",
       "      <th></th>\n",
       "    </tr>\n",
       "  </thead>\n",
       "  <tbody>\n",
       "    <tr>\n",
       "      <th rowspan=\"5\" valign=\"top\">31000</th>\n",
       "      <th rowspan=\"5\" valign=\"top\">2015-01-01</th>\n",
       "      <th>10</th>\n",
       "      <th>Member</th>\n",
       "      <td>1</td>\n",
       "      <td>1</td>\n",
       "    </tr>\n",
       "    <tr>\n",
       "      <th rowspan=\"2\" valign=\"top\">11</th>\n",
       "      <th>Casual</th>\n",
       "      <td>0</td>\n",
       "      <td>0</td>\n",
       "    </tr>\n",
       "    <tr>\n",
       "      <th>Member</th>\n",
       "      <td>0</td>\n",
       "      <td>0</td>\n",
       "    </tr>\n",
       "    <tr>\n",
       "      <th rowspan=\"2\" valign=\"top\">12</th>\n",
       "      <th>Casual</th>\n",
       "      <td>0</td>\n",
       "      <td>0</td>\n",
       "    </tr>\n",
       "    <tr>\n",
       "      <th>Member</th>\n",
       "      <td>0</td>\n",
       "      <td>0</td>\n",
       "    </tr>\n",
       "  </tbody>\n",
       "</table>\n",
       "</div>"
      ],
      "text/plain": [
       "                                        count_in  count_out\n",
       "station_id date       hour Member type                     \n",
       "31000      2015-01-01 10   Member              1          1\n",
       "                      11   Casual              0          0\n",
       "                           Member              0          0\n",
       "                      12   Casual              0          0\n",
       "                           Member              0          0"
      ]
     },
     "execution_count": 21,
     "metadata": {},
     "output_type": "execute_result"
    }
   ],
   "source": [
    "df_counts.head()"
   ]
  },
  {
   "cell_type": "code",
   "execution_count": null,
   "metadata": {},
   "outputs": [],
   "source": []
  },
  {
   "cell_type": "code",
   "execution_count": 22,
   "metadata": {
    "ExecuteTime": {
     "end_time": "2020-07-22T14:20:02.851897Z",
     "start_time": "2020-07-22T14:20:02.293073Z"
    }
   },
   "outputs": [],
   "source": [
    "# Ergebnis speichern\n",
    "df_counts.to_pickle(DATA_PATH+COUNTS_FILE)"
   ]
  }
 ],
 "metadata": {
  "kernelspec": {
   "display_name": "Python 3",
   "language": "python",
   "name": "python3"
  },
  "language_info": {
   "codemirror_mode": {
    "name": "ipython",
    "version": 3
   },
   "file_extension": ".py",
   "mimetype": "text/x-python",
   "name": "python",
   "nbconvert_exporter": "python",
   "pygments_lexer": "ipython3",
   "version": "3.8.3"
  },
  "toc": {
   "base_numbering": 1,
   "nav_menu": {},
   "number_sections": false,
   "sideBar": true,
   "skip_h1_title": false,
   "title_cell": "Inhaltsverzeichnis",
   "title_sidebar": "Inhalt",
   "toc_cell": false,
   "toc_position": {},
   "toc_section_display": true,
   "toc_window_display": false
  }
 },
 "nbformat": 4,
 "nbformat_minor": 2
}
