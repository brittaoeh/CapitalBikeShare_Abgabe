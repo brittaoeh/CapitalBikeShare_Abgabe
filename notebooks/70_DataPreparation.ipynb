{
 "cells": [
  {
   "cell_type": "markdown",
   "metadata": {},
   "source": [
    "<img src='../images/cbslogo.jpg' width=\"30%\" align=\"left\" />"
   ]
  },
  {
   "cell_type": "markdown",
   "metadata": {},
   "source": [
    "# Data Preparation\n",
    "## - Phase: Data  Preparation -"
   ]
  },
  {
   "cell_type": "markdown",
   "metadata": {},
   "source": [
    "In diesem Notebook werden die grundlegenden Daten für die Modellierung aufbereitet. Hierzu zählt die Aggregation der Ausleihvorgänge, das Enfernen von Ausreißern und Nullwerten sowie das Zusammenführen der Ausleih- und Wetterdaten. Abschließend werden die Trainings und Testdaten für die Modellierungsnotebooks erstellt. \n",
    "In den jeweiligen Modellierungsnotebooks werden die Daten für die verwendeten Modell aufbereitet und angewendet.\n",
    "\n",
    "Dieses Notebook nutzt die folgenden Dateien:\n",
    "    counts.pkl,\n",
    "    weather_raw.pkl,\n",
    "    weather_alt.pkl,\n",
    "    trips_weather.pkl.\n",
    "    \n",
    "In diesem Notebook werden die Dateien test.pkl und training.pkl erzeugt."
   ]
  },
  {
   "cell_type": "code",
   "execution_count": 1,
   "metadata": {},
   "outputs": [],
   "source": [
    "import pandas as pd\n",
    "import datetime\n",
    "import numpy as np\n",
    "import missingno as msgno\n",
    "from workalendar.core import Calendar\n",
    "from pandas.tseries.holiday import USFederalHolidayCalendar as calendar\n",
    "import matplotlib.pyplot as plt\n",
    "from matplotlib import style\n",
    "import seaborn as sn"
   ]
  },
  {
   "cell_type": "code",
   "execution_count": 2,
   "metadata": {},
   "outputs": [],
   "source": [
    "DATA_PATH = '../data/'\n",
    "HOLIDAYS = DATA_PATH + 'Feiertage.xlsx'"
   ]
  },
  {
   "cell_type": "code",
   "execution_count": 3,
   "metadata": {},
   "outputs": [],
   "source": [
    "#df = pd.read_pickle(DATA_PATH+'counts_enriched.pkl')\n",
    "df_trips_weather = pd.read_pickle(DATA_PATH+'trips_weather.pkl')\n",
    "df_weather_alt = pd.read_pickle (DATA_PATH+'weather_alt.pkl')\n",
    "df_weather_raw = pd.read_pickle(DATA_PATH+'weather_raw.pkl')\n",
    "df_count=pd.read_pickle(DATA_PATH+'counts.pkl')\n",
    "df_holiday_data = pd.read_excel(HOLIDAYS,header = 0)"
   ]
  },
  {
   "cell_type": "code",
   "execution_count": 4,
   "metadata": {},
   "outputs": [
    {
     "data": {
      "text/html": [
       "<div>\n",
       "<style scoped>\n",
       "    .dataframe tbody tr th:only-of-type {\n",
       "        vertical-align: middle;\n",
       "    }\n",
       "\n",
       "    .dataframe tbody tr th {\n",
       "        vertical-align: top;\n",
       "    }\n",
       "\n",
       "    .dataframe thead th {\n",
       "        text-align: right;\n",
       "    }\n",
       "</style>\n",
       "<table border=\"1\" class=\"dataframe\">\n",
       "  <thead>\n",
       "    <tr style=\"text-align: right;\">\n",
       "      <th></th>\n",
       "      <th>station_id</th>\n",
       "      <th>date</th>\n",
       "      <th>hour</th>\n",
       "      <th>Member type</th>\n",
       "      <th>count_in</th>\n",
       "      <th>count_out</th>\n",
       "    </tr>\n",
       "  </thead>\n",
       "  <tbody>\n",
       "    <tr>\n",
       "      <th>0</th>\n",
       "      <td>31000</td>\n",
       "      <td>2015-01-01</td>\n",
       "      <td>10</td>\n",
       "      <td>Member</td>\n",
       "      <td>1</td>\n",
       "      <td>1</td>\n",
       "    </tr>\n",
       "    <tr>\n",
       "      <th>1</th>\n",
       "      <td>31000</td>\n",
       "      <td>2015-01-01</td>\n",
       "      <td>11</td>\n",
       "      <td>Casual</td>\n",
       "      <td>0</td>\n",
       "      <td>0</td>\n",
       "    </tr>\n",
       "    <tr>\n",
       "      <th>2</th>\n",
       "      <td>31000</td>\n",
       "      <td>2015-01-01</td>\n",
       "      <td>11</td>\n",
       "      <td>Member</td>\n",
       "      <td>0</td>\n",
       "      <td>0</td>\n",
       "    </tr>\n",
       "    <tr>\n",
       "      <th>3</th>\n",
       "      <td>31000</td>\n",
       "      <td>2015-01-01</td>\n",
       "      <td>12</td>\n",
       "      <td>Casual</td>\n",
       "      <td>0</td>\n",
       "      <td>0</td>\n",
       "    </tr>\n",
       "    <tr>\n",
       "      <th>4</th>\n",
       "      <td>31000</td>\n",
       "      <td>2015-01-01</td>\n",
       "      <td>12</td>\n",
       "      <td>Member</td>\n",
       "      <td>0</td>\n",
       "      <td>0</td>\n",
       "    </tr>\n",
       "    <tr>\n",
       "      <th>...</th>\n",
       "      <td>...</td>\n",
       "      <td>...</td>\n",
       "      <td>...</td>\n",
       "      <td>...</td>\n",
       "      <td>...</td>\n",
       "      <td>...</td>\n",
       "    </tr>\n",
       "    <tr>\n",
       "      <th>21131071</th>\n",
       "      <td>32225</td>\n",
       "      <td>2017-12-10</td>\n",
       "      <td>11</td>\n",
       "      <td>Member</td>\n",
       "      <td>0</td>\n",
       "      <td>0</td>\n",
       "    </tr>\n",
       "    <tr>\n",
       "      <th>21131072</th>\n",
       "      <td>32225</td>\n",
       "      <td>2017-12-10</td>\n",
       "      <td>12</td>\n",
       "      <td>Casual</td>\n",
       "      <td>0</td>\n",
       "      <td>0</td>\n",
       "    </tr>\n",
       "    <tr>\n",
       "      <th>21131073</th>\n",
       "      <td>32225</td>\n",
       "      <td>2017-12-10</td>\n",
       "      <td>12</td>\n",
       "      <td>Member</td>\n",
       "      <td>0</td>\n",
       "      <td>0</td>\n",
       "    </tr>\n",
       "    <tr>\n",
       "      <th>21131074</th>\n",
       "      <td>32225</td>\n",
       "      <td>2017-12-10</td>\n",
       "      <td>13</td>\n",
       "      <td>Casual</td>\n",
       "      <td>0</td>\n",
       "      <td>0</td>\n",
       "    </tr>\n",
       "    <tr>\n",
       "      <th>21131075</th>\n",
       "      <td>32225</td>\n",
       "      <td>2017-12-10</td>\n",
       "      <td>13</td>\n",
       "      <td>Member</td>\n",
       "      <td>0</td>\n",
       "      <td>1</td>\n",
       "    </tr>\n",
       "  </tbody>\n",
       "</table>\n",
       "<p>21131076 rows × 6 columns</p>\n",
       "</div>"
      ],
      "text/plain": [
       "          station_id       date  hour Member type  count_in  count_out\n",
       "0              31000 2015-01-01    10      Member         1          1\n",
       "1              31000 2015-01-01    11      Casual         0          0\n",
       "2              31000 2015-01-01    11      Member         0          0\n",
       "3              31000 2015-01-01    12      Casual         0          0\n",
       "4              31000 2015-01-01    12      Member         0          0\n",
       "...              ...        ...   ...         ...       ...        ...\n",
       "21131071       32225 2017-12-10    11      Member         0          0\n",
       "21131072       32225 2017-12-10    12      Casual         0          0\n",
       "21131073       32225 2017-12-10    12      Member         0          0\n",
       "21131074       32225 2017-12-10    13      Casual         0          0\n",
       "21131075       32225 2017-12-10    13      Member         0          1\n",
       "\n",
       "[21131076 rows x 6 columns]"
      ]
     },
     "execution_count": 4,
     "metadata": {},
     "output_type": "execute_result"
    }
   ],
   "source": [
    "df_count.reset_index()"
   ]
  },
  {
   "cell_type": "markdown",
   "metadata": {},
   "source": [
    "In einem ersten Schritt sollen stationsunabhängige Vorhersagen getroffen werden. Daher wird das Datenset basierend auf Datum und Stunde aggregiert (df_total).\n",
    "Da anschließend ggf. noch stationsabhängige Prognosen entwickelt werden sollen, wird auch ein Datenset erstellt bei welchem die Daten basierend auf Datum, Stunde und Station aggregiert werden (df_total_station).\n",
    "Für beide Datensets wird anschließend die Data Preparation durchgeführt"
   ]
  },
  {
   "cell_type": "code",
   "execution_count": 6,
   "metadata": {},
   "outputs": [],
   "source": [
    "#Aggregation der Daten basierend auf Datum und Stunde --> Stationen und Member Type werden nicht mitberücksichtigt\n",
    "df_total=df_count.groupby(by=['date', 'hour']).agg('sum')"
   ]
  },
  {
   "cell_type": "code",
   "execution_count": 7,
   "metadata": {},
   "outputs": [],
   "source": [
    "df_total_station = df_count.groupby(by=['date', 'hour', 'station_id']).agg('sum')"
   ]
  },
  {
   "cell_type": "code",
   "execution_count": 8,
   "metadata": {},
   "outputs": [
    {
     "data": {
      "text/plain": [
       "<AxesSubplot:xlabel='count_out'>"
      ]
     },
     "execution_count": 8,
     "metadata": {},
     "output_type": "execute_result"
    },
    {
     "data": {
      "image/png": "[encoded data removed]",
      "text/plain": [
       "<Figure size 432x288 with 1 Axes>"
      ]
     },
     "metadata": {
      "needs_background": "light"
     },
     "output_type": "display_data"
    }
   ],
   "source": [
    "# Plotten von Ausreißern\n",
    "sn.boxplot(x=df_total['count_out'])"
   ]
  },
  {
   "cell_type": "code",
   "execution_count": 9,
   "metadata": {},
   "outputs": [],
   "source": [
    "#Entfernen von Ausreißern --> Berechnet z-score um die Abweichung eines Wertes vom Mittelwert zu ermitteln. Entfernt werden alle Werte,\n",
    "# die einen z-score >3 haben, da hier die Abweichung besonders hoch ist.\n",
    "from scipy import stats\n",
    "import numpy as np\n",
    "\n",
    "\n",
    "z = np.abs(stats.zscore(df_total))\n",
    "\n",
    "threshold = 3\n",
    "df_total = df_total[(z < 3).all(axis=1)]"
   ]
  },
  {
   "cell_type": "code",
   "execution_count": 10,
   "metadata": {},
   "outputs": [],
   "source": [
    "#Entfernen von Ausreißern\n",
    "from scipy import stats\n",
    "import numpy as np\n",
    "\n",
    "\n",
    "z = np.abs(stats.zscore(df_total_station))\n",
    "\n",
    "threshold = 3\n",
    "df_total_station = df_total_station[(z < 3).all(axis=1)]"
   ]
  },
  {
   "cell_type": "code",
   "execution_count": 11,
   "metadata": {},
   "outputs": [],
   "source": [
    "df_total.reset_index(inplace = True)"
   ]
  },
  {
   "cell_type": "code",
   "execution_count": 12,
   "metadata": {},
   "outputs": [],
   "source": [
    "df_total_station.reset_index(inplace=True)"
   ]
  },
  {
   "cell_type": "code",
   "execution_count": 13,
   "metadata": {},
   "outputs": [
    {
     "data": {
      "text/plain": [
       "<AxesSubplot:xlabel='count_out'>"
      ]
     },
     "execution_count": 13,
     "metadata": {},
     "output_type": "execute_result"
    },
    {
     "data": {
      "image/png": "[encoded data removed]",
      "text/plain": [
       "<Figure size 432x288 with 1 Axes>"
      ]
     },
     "metadata": {
      "needs_background": "light"
     },
     "output_type": "display_data"
    }
   ],
   "source": [
    "sn.boxplot(x=df_total['count_out'])"
   ]
  },
  {
   "cell_type": "markdown",
   "metadata": {},
   "source": [
    "Während des Data Understanding wurden die Orginaldaten um Informationen zu Feiertagen und Wetter ergänzt. Da für das Prognosemodell aggregierte Daten benötigt werden, wurde auf die Rohdaten zurückgegriffen um die Aggregation zu vereinfachen. Die Informationen zu Wetter und Feiertagen müssen nun wieder ergänzt werden. Dies geschieht in den folgenden Schritten. Zuerst werden die beiden Wetter-Datensätze zusammengeführt und die Nullwerte aufgefüllt. Da man davon ausgehen kann, dass das Wetter innerhalb einiger Stunden nur geringen Schwankungen unterliegt, werden die fehlenden Werte mit der ffill Methode aufgefüllt. D.h. ein fehlender Wert wird mit dem Wert des vorhergehenden DAtensatzes aufgefüllt, sofern dieser vorhanden ist. Es wurde definiert, dass mayimal 3 fehlende Werte, d.h. 3 aufeinanderfolgende Stunden, aufgefüllt werden dürfen."
   ]
  },
  {
   "cell_type": "code",
   "execution_count": 14,
   "metadata": {},
   "outputs": [],
   "source": [
    "#Wetter-Datenset wird um Spalten mit Datum und Stunde ergänzt --> nötig um Wetterdaten und Ausleihdaten zusammenzufügen\n",
    "df_weather_raw['date'] = df_weather_raw['time_ts'].apply(lambda dt: pd.Timestamp(dt.date()))\n",
    "df_weather_raw['hour'] = df_weather_raw['time_ts'].apply(lambda dt: dt.time().hour)\n",
    "df_weather_raw = df_weather_raw.drop('time_ts', axis = 1)\n",
    "df_weather_raw = df_weather_raw.drop_duplicates(subset = ['date', 'hour'])\n",
    "\n",
    "#Die beiden Wetter-Datensätze werden zusammengeführt\n",
    "df_weather = df_weather_raw.combine_first(df_weather_alt)\n",
    "df_weather = df_weather.drop_duplicates(subset = ['date', 'hour'])\n",
    "\n",
    "# Nullwerte in den Wetterdaten auffüllen\n",
    "df_weather['precipitation']=df_weather['precipitation'].fillna(method='ffill', limit = 3)\n",
    "df_weather['winddirection'] = df_weather['winddirection'].fillna(method='ffill', limit =3)\n",
    "df_weather['windspeed'] = df_weather['windspeed'].fillna(method='ffill', limit =2)\n",
    "df_weather['pressure'] = df_weather['pressure'].fillna(method='ffill', limit =2)\n",
    "df_weather['dewpoint'] = df_weather['dewpoint'].fillna(method='ffill', limit =1)\n",
    "df_weather['humidity']=df_weather['humidity'].fillna(method='ffill', limit = 1)\n",
    "df_weather['temperature']=df_weather['temperature'].fillna(method='ffill', limit = 1)\n"
   ]
  },
  {
   "cell_type": "code",
   "execution_count": 15,
   "metadata": {},
   "outputs": [],
   "source": [
    "#Ergänzen um Feiertage\n",
    "df_total['day_of_week'] = df_total['date'].dt.day\n",
    "df_count_complete= pd.merge(df_total, df_holiday_data, left_on=df_total['date'], right_on=df_holiday_data['start_ts'], how='left').drop(['start_ts', 'key_0'], axis=1)\n",
    "cal = calendar()\n",
    "holidays = cal.holidays(start=min(df_count_complete['date']), end= max(df_count_complete['date']))\n",
    "df_count_complete['Holiday'] = df_count_complete['date'].isin(holidays)\n",
    "\n",
    "df_total_station['day_of_week'] = df_total_station['date'].dt.day\n",
    "df_count_complete_station= pd.merge(df_total_station, df_holiday_data, left_on=df_total_station['date'], right_on=df_holiday_data['start_ts'], how='left').drop(['start_ts', 'key_0'], axis=1)\n",
    "cal = calendar()\n",
    "holidays = cal.holidays(start=min(df_count_complete_station['date']), end= max(df_count_complete_station['date']))\n",
    "df_count_complete_station['Holiday'] = df_count_complete_station['date'].isin(holidays)"
   ]
  },
  {
   "cell_type": "code",
   "execution_count": 16,
   "metadata": {},
   "outputs": [],
   "source": [
    "#Ergänzen um Wetterdaten\n",
    "df_count_weather= pd.merge(df_count_complete, df_weather, on=['date', 'hour'], how='left')\n",
    "df_count_weather_station= pd.merge(df_count_complete_station, df_weather, on=['date', 'hour'], how='left')\n"
   ]
  },
  {
   "cell_type": "code",
   "execution_count": 17,
   "metadata": {},
   "outputs": [],
   "source": [
    "# Löschen überflüssiger Spalten\n",
    "df_count_weather = df_count_weather.drop(['Reason'], axis=1)\n",
    "df_count_weather_station = df_count_weather_station.drop(['Reason'], axis=1)"
   ]
  },
  {
   "cell_type": "markdown",
   "metadata": {},
   "source": [
    "Das Data Understanding hat gezeigt, dass die Ausleihzahlen abhängig vom Wochentag sind. Unter der Woche liegt ein anderes Ausleihmuster vor, als an Wochenenden und Feiertagen. Um diese Information im Prognosemodell berücksichtigen zu können werden Wochentage ergänzt und die Information bzgl. Arbeitstag und Wochenende extrahiert."
   ]
  },
  {
   "cell_type": "code",
   "execution_count": 18,
   "metadata": {},
   "outputs": [],
   "source": [
    "#Wochentage ergänzen\n",
    "df_count_weather['weekday'] = df_count_weather['date'].dt.day_name()\n",
    "df_count_weather_station['weekday'] = df_count_weather_station['date'].dt.day_name()"
   ]
  },
  {
   "cell_type": "code",
   "execution_count": 19,
   "metadata": {},
   "outputs": [],
   "source": [
    "# Variable Workingday basierend auf Wochentagen erstellen (1 für Werktag, 0 für Wochenende)\n",
    "df_count_weather['workingday'] = df_count_weather['weekday'].replace(['Monday', 'Tuesday', 'Wednesday', 'Thursday', 'Friday'],1)\n",
    "df_count_weather['workingday'] = df_count_weather['workingday']. replace(['Saturday', 'Sunday'],0)\n",
    "\n",
    "df_count_weather_station['workingday'] = df_count_weather_station['weekday'].replace(['Monday', 'Tuesday', 'Wednesday', 'Thursday', 'Friday'],1)\n",
    "df_count_weather_station['workingday'] = df_count_weather_station['workingday']. replace(['Saturday', 'Sunday'],0)"
   ]
  },
  {
   "cell_type": "code",
   "execution_count": 20,
   "metadata": {},
   "outputs": [],
   "source": [
    "# Variable workingday anpassen, wenn es sich bei Werktag um Feiertag handelt\n",
    "df_count_weather.loc[df_count_weather['Holiday'] == True, 'workingday'] = 0\n",
    "df_count_weather.loc[df_count_weather['Holiday']== False, 'workingday'] = 1\n",
    "\n",
    "df_count_weather_station.loc[df_count_weather_station['Holiday'] == True, 'workingday'] = 0\n",
    "df_count_weather_station.loc[df_count_weather_station['Holiday']== False, 'workingday'] = 1"
   ]
  },
  {
   "cell_type": "markdown",
   "metadata": {},
   "source": [
    "Da auch eine Saisonalität der Daten abhängig von der jeweiligen Jahreszeit vorliegt, werden auch Informationen über diese ergänzt. Hierbei werden Dezember, Januar und Februar zu Winter zusammengefasst; März, April und Mai zu Frühling; Juni, Juli, August zu Sommer und September, Oktober, November zu Herbst."
   ]
  },
  {
   "cell_type": "code",
   "execution_count": 21,
   "metadata": {},
   "outputs": [],
   "source": [
    "df_count_weather.loc[df_count_weather['date'].dt.month.apply(lambda x: x in [1,2,12]), 'Season']='Winter'\n",
    "df_count_weather.loc[df_count_weather['date'].dt.month.apply(lambda x: x in [3,4,5]), 'Season']='Spring'\n",
    "df_count_weather.loc[df_count_weather['date'].dt.month.apply(lambda x: x in [6,7,8]), 'Season']='Summer'\n",
    "df_count_weather.loc[df_count_weather['date'].dt.month.apply(lambda x: x in [9,10,11]), 'Season']='Fall'\n",
    "\n",
    "df_count_weather_station.loc[df_count_weather_station['date'].dt.month.apply(lambda x: x in [1,2,12]), 'Season']='Winter'\n",
    "df_count_weather_station.loc[df_count_weather_station['date'].dt.month.apply(lambda x: x in [3,4,5]), 'Season']='Spring'\n",
    "df_count_weather_station.loc[df_count_weather_station['date'].dt.month.apply(lambda x: x in [6,7,8]), 'Season']='Summer'\n",
    "df_count_weather_station.loc[df_count_weather_station['date'].dt.month.apply(lambda x: x in [9,10,11]), 'Season']='Fall'"
   ]
  },
  {
   "cell_type": "markdown",
   "metadata": {},
   "source": [
    "Ein weiterer wichtiger Schritt der Datenaufbereitung ist das Prüfen und Behandeln von Null-Werten. Damit die Daten für die verschiedensten Algorithmen verwendet werden können dürfen diese keine Nullwerte enthalten. Oben wurden bereits die Nullwerte in den Wetterdaten aufgefüllt. Im Folgenden werden nun die aggregierten und um die Wetterwerte angereicherten Ausleihdaten auf vollständigkeit geprüft. Da es im Verhältnis zur Gesamtzahl der Datensätze nur eine geringe Anzahl an Nullwerten gibt, werden alle Zeilen mit Nullwerten gelöscht."
   ]
  },
  {
   "cell_type": "code",
   "execution_count": 22,
   "metadata": {},
   "outputs": [
    {
     "data": {
      "text/plain": [
       "date             0\n",
       "hour             0\n",
       "count_in         0\n",
       "count_out        0\n",
       "day_of_week      0\n",
       "Holiday          0\n",
       "dewpoint         3\n",
       "humidity         3\n",
       "precipitation    3\n",
       "pressure         3\n",
       "temperature      3\n",
       "winddirection    3\n",
       "windspeed        3\n",
       "weekday          0\n",
       "workingday       0\n",
       "Season           0\n",
       "dtype: int64"
      ]
     },
     "execution_count": 22,
     "metadata": {},
     "output_type": "execute_result"
    }
   ],
   "source": [
    "df_count_weather.isnull().sum()"
   ]
  },
  {
   "cell_type": "code",
   "execution_count": 23,
   "metadata": {},
   "outputs": [
    {
     "data": {
      "text/plain": [
       "date               0\n",
       "hour               0\n",
       "station_id         0\n",
       "count_in           0\n",
       "count_out          0\n",
       "day_of_week        0\n",
       "Holiday            0\n",
       "dewpoint         743\n",
       "humidity         743\n",
       "precipitation    743\n",
       "pressure         743\n",
       "temperature      743\n",
       "winddirection    743\n",
       "windspeed        743\n",
       "weekday            0\n",
       "workingday         0\n",
       "Season             0\n",
       "dtype: int64"
      ]
     },
     "execution_count": 23,
     "metadata": {},
     "output_type": "execute_result"
    }
   ],
   "source": [
    "df_count_weather_station.isnull().sum()"
   ]
  },
  {
   "cell_type": "code",
   "execution_count": 24,
   "metadata": {},
   "outputs": [],
   "source": [
    "df_count_weather = df_count_weather.dropna()\n",
    "df_count_weather_station = df_count_weather_station.dropna()"
   ]
  },
  {
   "cell_type": "code",
   "execution_count": 25,
   "metadata": {},
   "outputs": [],
   "source": [
    "df_count_weather.set_index(['date'], inplace = True)\n",
    "df_count_weather['year'] = [x.year for x in df_count_weather.index]\n",
    "\n",
    "df_count_weather_station.set_index(['date'], inplace = True)\n",
    "df_count_weather_station['year'] = [x.year for x in df_count_weather_station.index]"
   ]
  },
  {
   "cell_type": "code",
   "execution_count": 26,
   "metadata": {},
   "outputs": [],
   "source": [
    "df_count_weather.reset_index(['date'], inplace = True)\n",
    "df_count_weather_station.reset_index(['date'], inplace = True)"
   ]
  },
  {
   "cell_type": "markdown",
   "metadata": {},
   "source": [
    "Das Datenset enthält kategorische Variablen, wie z.B. Wochentag, Stunde oder Jahreszeit. Diese Variablen werden zwar als numerische Werte repräsentiert, haben aber alle das gleiche Gewicht. Um diese Variablen für die Modellierung verwenden zu können, werden mittels One-Hot Encoding Dummy-Variabeln erstellt. Für jeden eindeutigen Wert einer Variable wird eine Spalte erstellt. Diese enthält eine 1, wenn in der ursprünglichen Spalte dieser Wert enthalten war. Ansonsten werden die Felder mit Nullen gefüllt. Es entsteht somit ein Binär-Vektor für jedes einzelne Feature"
   ]
  },
  {
   "cell_type": "code",
   "execution_count": 27,
   "metadata": {},
   "outputs": [],
   "source": [
    "category_list = ['date', 'hour', 'weekday']\n",
    "for var in category_list:\n",
    "    df_count_weather[var] = df_count_weather[var].astype('category')\n",
    "\n",
    "for var in category_list:\n",
    "    df_count_weather_station[var] = df_count_weather_station[var].astype('category')"
   ]
  },
  {
   "cell_type": "code",
   "execution_count": 28,
   "metadata": {},
   "outputs": [],
   "source": [
    "df_count_weather= pd.get_dummies(df_count_weather, columns=['Season'])\n",
    "#df_count_weather=pd.get_dummies(df_count_weather, columns =['month'], prefix='month')\n",
    "df_count_weather=pd.get_dummies(df_count_weather, columns =['hour'], prefix='hour')\n",
    "df_count_weather=pd.get_dummies(df_count_weather, columns =['weekday'])\n",
    "\n",
    "df_count_weather_station= pd.get_dummies(df_count_weather_station, columns=['Season'])\n",
    "#df_count_weather=pd.get_dummies(df_count_weather, columns =['month'], prefix='month')\n",
    "df_count_weather_station=pd.get_dummies(df_count_weather_station, columns =['hour'], prefix='hour')\n",
    "df_count_weather_station=pd.get_dummies(df_count_weather_station, columns =['weekday'])"
   ]
  },
  {
   "cell_type": "markdown",
   "metadata": {},
   "source": [
    "Das Erstellen von Dummy-Variablen führt dazu, dass eine der erstellten Variablen eines Features mittels der anderen Variablen vorhergesagt werden kann. Es entsteht das Problem der Multikolinearität, sprich der Abhängigkeit unabhängiger (erklärender) Features. Dies kann bei einigen Modellen wie z.B. linerarer oder logistischer Regression zu Problemen führen. Gelöst werden kann die Multikolinearität, indem jeweils eine der erstellten Dummy-Variablen gelöscht wird (https://www.analyticsvidhya.com/blog/2020/03/one-hot-encoding-vs-label-encoding-using-scikit-learn/)."
   ]
  },
  {
   "cell_type": "code",
   "execution_count": 29,
   "metadata": {},
   "outputs": [],
   "source": [
    "df_count_weather=df_count_weather.drop(['Season_Winter', 'hour_23', 'weekday_Sunday'], axis=1)\n",
    "df_count_weather_station=df_count_weather_station.drop(['Season_Winter', 'hour_23', 'weekday_Sunday'], axis=1)"
   ]
  },
  {
   "cell_type": "markdown",
   "metadata": {},
   "source": [
    "Als nächstes werden nicht mehr benötigte Spalten gelöscht. "
   ]
  },
  {
   "cell_type": "code",
   "execution_count": 30,
   "metadata": {},
   "outputs": [],
   "source": [
    "df_count_weather = df_count_weather.drop(['Holiday'], axis=1)\n",
    "df_count_weather_station = df_count_weather_station.drop(['Holiday'], axis=1)"
   ]
  },
  {
   "cell_type": "markdown",
   "metadata": {},
   "source": [
    "Abschließend werden die aufbereiteten Daten als pickle-Datei exportiert bevor final die Trainings- und Testdaten für die Modellierung erstellt werden. Hierbei bilden die Daten aus den Jahren 2015 und 2016 die Trainingsdaten, die Daten aus 2017 werden als Testdaten verwendet."
   ]
  },
  {
   "cell_type": "code",
   "execution_count": 33,
   "metadata": {},
   "outputs": [],
   "source": [
    "df_count_weather.to_pickle(DATA_PATH+'counts_prepared.pkl')\n",
    "df_count_weather_station.to_pickle(DATA_PATH+'counts_prepared_stations.pkl')"
   ]
  },
  {
   "cell_type": "code",
   "execution_count": 35,
   "metadata": {},
   "outputs": [],
   "source": [
    "array = [2015, 2016]\n",
    "\n",
    "dataTrain = df_count_weather.loc[df_count_weather['year'].isin(array)]\n",
    "dataTrain = dataTrain.sort_values(by=['date'])\n",
    "dataTest = df_count_weather.loc[df_count_weather['year']==2017]\n",
    "dataTest = dataTest.sort_values(by=['date'])\n",
    "\n",
    "datetimecol = dataTest['date']\n",
    "yLabels = df_count_weather[\"count_out\"]\n",
    "\n",
    "\n",
    "dataTrainStations = df_count_weather_station.loc[df_count_weather_station['year'].isin(array)]\n",
    "dataTrainStations = dataTrainStations.sort_values(by=['date'])\n",
    "dataTestStations = df_count_weather_station.loc[df_count_weather_station['year']==2017]\n",
    "dataTestStations = dataTestStations.sort_values(by=['date'])\n"
   ]
  },
  {
   "cell_type": "code",
   "execution_count": 36,
   "metadata": {},
   "outputs": [],
   "source": [
    "dataTrainStations.to_pickle(DATA_PATH+'training_stations.pkl')\n",
    "dataTestStations.to_pickle(DATA_PATH+'test_stations.pkl')"
   ]
  },
  {
   "cell_type": "code",
   "execution_count": null,
   "metadata": {},
   "outputs": [],
   "source": []
  }
 ],
 "metadata": {
  "kernelspec": {
   "display_name": "Python 3",
   "language": "python",
   "name": "python3"
  },
  "language_info": {
   "codemirror_mode": {
    "name": "ipython",
    "version": 3
   },
   "file_extension": ".py",
   "mimetype": "text/x-python",
   "name": "python",
   "nbconvert_exporter": "python",
   "pygments_lexer": "ipython3",
   "version": "3.7.6"
  }
 },
 "nbformat": 4,
 "nbformat_minor": 4
}
