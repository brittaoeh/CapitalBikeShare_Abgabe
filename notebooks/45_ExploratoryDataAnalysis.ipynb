{
 "cells": [
  {
   "cell_type": "markdown",
   "metadata": {},
   "source": [
    "<img src='../images/cbslogo.jpg' width=\"30%\" align=\"left\" />"
   ]
  },
  {
   "cell_type": "markdown",
   "metadata": {},
   "source": [
    "# Explorative Datenanalyse\n",
    "## - Phase: Data Understanding -"
   ]
  },
  {
   "cell_type": "markdown",
   "metadata": {},
   "source": [
    "Das Ziel dieses Notebooks ist das Entdecken der uns vorliegenden Daten mit der Identifizierung erster Besonderheiten aber auch Qualitätsmängel. Zudem wurden hier bereits erste weiterführende Fragen zur Orientierung der weiterführenden Analyse aufgestellt.\n",
    "\n",
    "Dieses Notebook nutzt die folgenden Dateien: trips_raw.pkl, trips_clean.pkl, tripdata_coordinates.pkl, Station_Data.csv.\n",
    "\n",
    "Durch dieses Notebook werden keine weiteren Dateien erzeugt."
   ]
  },
  {
   "cell_type": "markdown",
   "metadata": {},
   "source": [
    "Vorbereitung: Module einbinden"
   ]
  },
  {
   "cell_type": "code",
   "execution_count": 1,
   "metadata": {},
   "outputs": [],
   "source": [
    "import pandas as pd\n",
    "import numpy as np\n",
    "import scipy.stats as stats\n",
    "import matplotlib.pyplot as plt\n",
    "import seaborn as sns\n",
    "import pandas_profiling as pp\n",
    "%matplotlib inline"
   ]
  },
  {
   "cell_type": "code",
   "execution_count": 2,
   "metadata": {},
   "outputs": [],
   "source": [
    "RAWDATA_PATH = '../data/raw'\n",
    "DATA_PATH = '../data/'\n",
    "TRIPS_FILE = 'trips_raw.pkl'\n",
    "STATION_LOCATION = RAWDATA_PATH+'/Station_Data.csv'\n",
    "COMBINED_DATA = DATA_PATH + '/tripdata_coordinates.pkl'"
   ]
  },
  {
   "cell_type": "code",
   "execution_count": 3,
   "metadata": {},
   "outputs": [],
   "source": [
    "df = pd.read_pickle(DATA_PATH +'tripdata_coordinates.pkl')"
   ]
  },
  {
   "cell_type": "markdown",
   "metadata": {},
   "source": [
    "### Wir beginnen mit der deskriptiven Datenanalyse:"
   ]
  },
  {
   "cell_type": "code",
   "execution_count": 6,
   "metadata": {},
   "outputs": [
    {
     "data": {
      "text/plain": [
       "(10232882, 16)"
      ]
     },
     "execution_count": 6,
     "metadata": {},
     "output_type": "execute_result"
    }
   ],
   "source": [
    "df.shape"
   ]
  },
  {
   "cell_type": "markdown",
   "metadata": {},
   "source": [
    "Der Datensatz besteht aus 16 Spalten und 10232882 Beobachtungen. Eine Beobachtung entspricht einem augeliehenen Fahrrad.\n",
    "In unserer Datenanalyse stellt der Ausleihvorgang das Hauptaugenmerk dar."
   ]
  },
  {
   "cell_type": "code",
   "execution_count": 8,
   "metadata": {},
   "outputs": [],
   "source": [
    "# Wir wissen: Unsere Zielgröße ist die Analyse der Anzahl der ausgeliehenen Fahrräder. \n",
    "# Im ersten Schritt legen wir also die Fahrradnummer als naheliegendste Zielgröße fest.\n",
    "TARGET = 'bike_number'"
   ]
  },
  {
   "cell_type": "code",
   "execution_count": 4,
   "metadata": {},
   "outputs": [
    {
     "data": {
      "text/html": [
       "<div>\n",
       "<style scoped>\n",
       "    .dataframe tbody tr th:only-of-type {\n",
       "        vertical-align: middle;\n",
       "    }\n",
       "\n",
       "    .dataframe tbody tr th {\n",
       "        vertical-align: top;\n",
       "    }\n",
       "\n",
       "    .dataframe thead th {\n",
       "        text-align: right;\n",
       "    }\n",
       "</style>\n",
       "<table border=\"1\" class=\"dataframe\">\n",
       "  <thead>\n",
       "    <tr style=\"text-align: right;\">\n",
       "      <th></th>\n",
       "      <th>start_ts</th>\n",
       "      <th>end_ts</th>\n",
       "      <th>start_station_id</th>\n",
       "      <th>end_station_id</th>\n",
       "      <th>bike_number</th>\n",
       "      <th>Member type</th>\n",
       "      <th>start_date</th>\n",
       "      <th>start_hour</th>\n",
       "      <th>end_date</th>\n",
       "      <th>end_hour</th>\n",
       "      <th>Latitude_start_station</th>\n",
       "      <th>Longitude_start_station</th>\n",
       "      <th>Latitude_end_station</th>\n",
       "      <th>Longitude_end_station</th>\n",
       "      <th>start_day_of_week</th>\n",
       "      <th>end_day_of_week</th>\n",
       "    </tr>\n",
       "  </thead>\n",
       "  <tbody>\n",
       "    <tr>\n",
       "      <th>0</th>\n",
       "      <td>2015-10-15 10:58:35</td>\n",
       "      <td>2015-10-15 14:57:10</td>\n",
       "      <td>31219</td>\n",
       "      <td>31634</td>\n",
       "      <td>?(0x0000000074BEBCE4)</td>\n",
       "      <td>Member</td>\n",
       "      <td>2015-10-15</td>\n",
       "      <td>10</td>\n",
       "      <td>2015-10-15</td>\n",
       "      <td>14</td>\n",
       "      <td>38.893028</td>\n",
       "      <td>-77.026013</td>\n",
       "      <td>38.87501</td>\n",
       "      <td>-77.0024</td>\n",
       "      <td>Thursday</td>\n",
       "      <td>Thursday</td>\n",
       "    </tr>\n",
       "    <tr>\n",
       "      <th>1</th>\n",
       "      <td>2016-07-08 20:44:21</td>\n",
       "      <td>2016-07-08 21:11:54</td>\n",
       "      <td>31219</td>\n",
       "      <td>31634</td>\n",
       "      <td>W00099</td>\n",
       "      <td>Casual</td>\n",
       "      <td>2016-07-08</td>\n",
       "      <td>20</td>\n",
       "      <td>2016-07-08</td>\n",
       "      <td>21</td>\n",
       "      <td>38.893028</td>\n",
       "      <td>-77.026013</td>\n",
       "      <td>38.87501</td>\n",
       "      <td>-77.0024</td>\n",
       "      <td>Friday</td>\n",
       "      <td>Friday</td>\n",
       "    </tr>\n",
       "    <tr>\n",
       "      <th>2</th>\n",
       "      <td>2017-10-14 19:47:46</td>\n",
       "      <td>2017-10-14 20:02:32</td>\n",
       "      <td>31219</td>\n",
       "      <td>31634</td>\n",
       "      <td>W00139</td>\n",
       "      <td>Member</td>\n",
       "      <td>2017-10-14</td>\n",
       "      <td>19</td>\n",
       "      <td>2017-10-14</td>\n",
       "      <td>20</td>\n",
       "      <td>38.893028</td>\n",
       "      <td>-77.026013</td>\n",
       "      <td>38.87501</td>\n",
       "      <td>-77.0024</td>\n",
       "      <td>Saturday</td>\n",
       "      <td>Saturday</td>\n",
       "    </tr>\n",
       "    <tr>\n",
       "      <th>3</th>\n",
       "      <td>2017-05-14 15:50:53</td>\n",
       "      <td>2017-05-14 16:33:31</td>\n",
       "      <td>31219</td>\n",
       "      <td>31634</td>\n",
       "      <td>W00242</td>\n",
       "      <td>Casual</td>\n",
       "      <td>2017-05-14</td>\n",
       "      <td>15</td>\n",
       "      <td>2017-05-14</td>\n",
       "      <td>16</td>\n",
       "      <td>38.893028</td>\n",
       "      <td>-77.026013</td>\n",
       "      <td>38.87501</td>\n",
       "      <td>-77.0024</td>\n",
       "      <td>Sunday</td>\n",
       "      <td>Sunday</td>\n",
       "    </tr>\n",
       "    <tr>\n",
       "      <th>4</th>\n",
       "      <td>2016-06-22 19:03:37</td>\n",
       "      <td>2016-06-22 19:20:51</td>\n",
       "      <td>31219</td>\n",
       "      <td>31634</td>\n",
       "      <td>W00277</td>\n",
       "      <td>Member</td>\n",
       "      <td>2016-06-22</td>\n",
       "      <td>19</td>\n",
       "      <td>2016-06-22</td>\n",
       "      <td>19</td>\n",
       "      <td>38.893028</td>\n",
       "      <td>-77.026013</td>\n",
       "      <td>38.87501</td>\n",
       "      <td>-77.0024</td>\n",
       "      <td>Wednesday</td>\n",
       "      <td>Wednesday</td>\n",
       "    </tr>\n",
       "  </tbody>\n",
       "</table>\n",
       "</div>"
      ],
      "text/plain": [
       "             start_ts              end_ts  start_station_id  end_station_id  \\\n",
       "0 2015-10-15 10:58:35 2015-10-15 14:57:10             31219           31634   \n",
       "1 2016-07-08 20:44:21 2016-07-08 21:11:54             31219           31634   \n",
       "2 2017-10-14 19:47:46 2017-10-14 20:02:32             31219           31634   \n",
       "3 2017-05-14 15:50:53 2017-05-14 16:33:31             31219           31634   \n",
       "4 2016-06-22 19:03:37 2016-06-22 19:20:51             31219           31634   \n",
       "\n",
       "             bike_number Member type start_date  start_hour   end_date  \\\n",
       "0  ?(0x0000000074BEBCE4)      Member 2015-10-15          10 2015-10-15   \n",
       "1                 W00099      Casual 2016-07-08          20 2016-07-08   \n",
       "2                 W00139      Member 2017-10-14          19 2017-10-14   \n",
       "3                 W00242      Casual 2017-05-14          15 2017-05-14   \n",
       "4                 W00277      Member 2016-06-22          19 2016-06-22   \n",
       "\n",
       "   end_hour  Latitude_start_station  Longitude_start_station  \\\n",
       "0        14               38.893028               -77.026013   \n",
       "1        21               38.893028               -77.026013   \n",
       "2        20               38.893028               -77.026013   \n",
       "3        16               38.893028               -77.026013   \n",
       "4        19               38.893028               -77.026013   \n",
       "\n",
       "   Latitude_end_station  Longitude_end_station start_day_of_week  \\\n",
       "0              38.87501               -77.0024          Thursday   \n",
       "1              38.87501               -77.0024            Friday   \n",
       "2              38.87501               -77.0024          Saturday   \n",
       "3              38.87501               -77.0024            Sunday   \n",
       "4              38.87501               -77.0024         Wednesday   \n",
       "\n",
       "  end_day_of_week  \n",
       "0        Thursday  \n",
       "1          Friday  \n",
       "2        Saturday  \n",
       "3          Sunday  \n",
       "4       Wednesday  "
      ]
     },
     "execution_count": 4,
     "metadata": {},
     "output_type": "execute_result"
    }
   ],
   "source": [
    "df.head()"
   ]
  },
  {
   "cell_type": "markdown",
   "metadata": {},
   "source": [
    " Das Einlesen war wohl erfolgreich...\n",
    "...allerdings fällt uns direkt in der ersten Zeile eine etwas vom Standard abweichende Fahrradnummer auf."
   ]
  },
  {
   "cell_type": "code",
   "execution_count": 12,
   "metadata": {},
   "outputs": [
    {
     "data": {
      "text/html": [
       "<div>\n",
       "<style scoped>\n",
       "    .dataframe tbody tr th:only-of-type {\n",
       "        vertical-align: middle;\n",
       "    }\n",
       "\n",
       "    .dataframe tbody tr th {\n",
       "        vertical-align: top;\n",
       "    }\n",
       "\n",
       "    .dataframe thead th {\n",
       "        text-align: right;\n",
       "    }\n",
       "</style>\n",
       "<table border=\"1\" class=\"dataframe\">\n",
       "  <thead>\n",
       "    <tr style=\"text-align: right;\">\n",
       "      <th></th>\n",
       "      <th>start_station_id</th>\n",
       "      <th>end_station_id</th>\n",
       "      <th>start_hour</th>\n",
       "      <th>end_hour</th>\n",
       "      <th>Latitude_start_station</th>\n",
       "      <th>Longitude_start_station</th>\n",
       "      <th>Latitude_end_station</th>\n",
       "      <th>Longitude_end_station</th>\n",
       "    </tr>\n",
       "  </thead>\n",
       "  <tbody>\n",
       "    <tr>\n",
       "      <th>count</th>\n",
       "      <td>1.023288e+07</td>\n",
       "      <td>1.023288e+07</td>\n",
       "      <td>1.023288e+07</td>\n",
       "      <td>1.023288e+07</td>\n",
       "      <td>1.023288e+07</td>\n",
       "      <td>1.023288e+07</td>\n",
       "      <td>1.023288e+07</td>\n",
       "      <td>1.023288e+07</td>\n",
       "    </tr>\n",
       "    <tr>\n",
       "      <th>mean</th>\n",
       "      <td>3.131214e+04</td>\n",
       "      <td>3.131291e+04</td>\n",
       "      <td>1.396184e+01</td>\n",
       "      <td>1.417818e+01</td>\n",
       "      <td>3.890168e+01</td>\n",
       "      <td>-7.703358e+01</td>\n",
       "      <td>3.890053e+01</td>\n",
       "      <td>-7.703297e+01</td>\n",
       "    </tr>\n",
       "    <tr>\n",
       "      <th>std</th>\n",
       "      <td>2.118838e+02</td>\n",
       "      <td>2.090978e+02</td>\n",
       "      <td>4.804140e+00</td>\n",
       "      <td>4.864247e+00</td>\n",
       "      <td>2.470865e-02</td>\n",
       "      <td>2.762716e-02</td>\n",
       "      <td>2.404722e-02</td>\n",
       "      <td>2.697558e-02</td>\n",
       "    </tr>\n",
       "    <tr>\n",
       "      <th>min</th>\n",
       "      <td>3.100000e+04</td>\n",
       "      <td>3.100000e+04</td>\n",
       "      <td>0.000000e+00</td>\n",
       "      <td>0.000000e+00</td>\n",
       "      <td>3.879756e+01</td>\n",
       "      <td>-7.736842e+01</td>\n",
       "      <td>3.879756e+01</td>\n",
       "      <td>-7.736842e+01</td>\n",
       "    </tr>\n",
       "    <tr>\n",
       "      <th>25%</th>\n",
       "      <td>3.120400e+04</td>\n",
       "      <td>3.120800e+04</td>\n",
       "      <td>1.000000e+01</td>\n",
       "      <td>1.000000e+01</td>\n",
       "      <td>3.889046e+01</td>\n",
       "      <td>-7.704500e+01</td>\n",
       "      <td>3.888999e+01</td>\n",
       "      <td>-7.704478e+01</td>\n",
       "    </tr>\n",
       "    <tr>\n",
       "      <th>50%</th>\n",
       "      <td>3.124900e+04</td>\n",
       "      <td>3.124800e+04</td>\n",
       "      <td>1.500000e+01</td>\n",
       "      <td>1.500000e+01</td>\n",
       "      <td>3.890041e+01</td>\n",
       "      <td>-7.703230e+01</td>\n",
       "      <td>3.890028e+01</td>\n",
       "      <td>-7.703230e+01</td>\n",
       "    </tr>\n",
       "    <tr>\n",
       "      <th>75%</th>\n",
       "      <td>3.140600e+04</td>\n",
       "      <td>3.140400e+04</td>\n",
       "      <td>1.800000e+01</td>\n",
       "      <td>1.800000e+01</td>\n",
       "      <td>3.891010e+01</td>\n",
       "      <td>-7.701780e+01</td>\n",
       "      <td>3.890939e+01</td>\n",
       "      <td>-7.701770e+01</td>\n",
       "    </tr>\n",
       "    <tr>\n",
       "      <th>max</th>\n",
       "      <td>3.222500e+04</td>\n",
       "      <td>3.222500e+04</td>\n",
       "      <td>2.300000e+01</td>\n",
       "      <td>2.300000e+01</td>\n",
       "      <td>3.912600e+01</td>\n",
       "      <td>-7.691356e+01</td>\n",
       "      <td>3.912600e+01</td>\n",
       "      <td>-7.691356e+01</td>\n",
       "    </tr>\n",
       "  </tbody>\n",
       "</table>\n",
       "</div>"
      ],
      "text/plain": [
       "       start_station_id  end_station_id    start_hour      end_hour  \\\n",
       "count      1.023288e+07    1.023288e+07  1.023288e+07  1.023288e+07   \n",
       "mean       3.131214e+04    3.131291e+04  1.396184e+01  1.417818e+01   \n",
       "std        2.118838e+02    2.090978e+02  4.804140e+00  4.864247e+00   \n",
       "min        3.100000e+04    3.100000e+04  0.000000e+00  0.000000e+00   \n",
       "25%        3.120400e+04    3.120800e+04  1.000000e+01  1.000000e+01   \n",
       "50%        3.124900e+04    3.124800e+04  1.500000e+01  1.500000e+01   \n",
       "75%        3.140600e+04    3.140400e+04  1.800000e+01  1.800000e+01   \n",
       "max        3.222500e+04    3.222500e+04  2.300000e+01  2.300000e+01   \n",
       "\n",
       "       Latitude_start_station  Longitude_start_station  Latitude_end_station  \\\n",
       "count            1.023288e+07             1.023288e+07          1.023288e+07   \n",
       "mean             3.890168e+01            -7.703358e+01          3.890053e+01   \n",
       "std              2.470865e-02             2.762716e-02          2.404722e-02   \n",
       "min              3.879756e+01            -7.736842e+01          3.879756e+01   \n",
       "25%              3.889046e+01            -7.704500e+01          3.888999e+01   \n",
       "50%              3.890041e+01            -7.703230e+01          3.890028e+01   \n",
       "75%              3.891010e+01            -7.701780e+01          3.890939e+01   \n",
       "max              3.912600e+01            -7.691356e+01          3.912600e+01   \n",
       "\n",
       "       Longitude_end_station  \n",
       "count           1.023288e+07  \n",
       "mean           -7.703297e+01  \n",
       "std             2.697558e-02  \n",
       "min            -7.736842e+01  \n",
       "25%            -7.704478e+01  \n",
       "50%            -7.703230e+01  \n",
       "75%            -7.701770e+01  \n",
       "max            -7.691356e+01  "
      ]
     },
     "execution_count": 12,
     "metadata": {},
     "output_type": "execute_result"
    }
   ],
   "source": [
    "# Wir wollen einen Überblick über die Standardmetriken und somit Verteilung der einzelnen Kategorien zu erhalten:\n",
    "df.describe()"
   ]
  },
  {
   "cell_type": "markdown",
   "metadata": {},
   "source": [
    "#### Wir erkunden den Datensatz weiter deskriptiv:"
   ]
  },
  {
   "cell_type": "markdown",
   "metadata": {},
   "source": [
    "Für einen ersten Eindruck über die unterschiedlichen Datentypen und Merkmale generieren wir den Pandas Profiling Report:"
   ]
  },
  {
   "cell_type": "code",
   "execution_count": 9,
   "metadata": {},
   "outputs": [],
   "source": [
    "from pandas_profiling import ProfileReport"
   ]
  },
  {
   "cell_type": "code",
   "execution_count": 10,
   "metadata": {},
   "outputs": [],
   "source": [
    "# Da der Datensatz sehr groß ist, generieren wir nur einen reduzierten Bericht, der auf speicherintensive Berechnungen wie z.B. der Korrelationen verzichtet."
   ]
  },
  {
   "cell_type": "code",
   "execution_count": 11,
   "metadata": {},
   "outputs": [],
   "source": [
    "#Der Report dieses Befehls befindet sich im Github Archiv.\n",
    "#report = df.profile_report(minimal = True) \n",
    "profile = pp.ProfileReport(df)\n",
    "#report.to_file(output_file=\"report.html\")"
   ]
  },
  {
   "cell_type": "markdown",
   "metadata": {},
   "source": [
    "# Explorative Datenanalyse"
   ]
  },
  {
   "cell_type": "markdown",
   "metadata": {},
   "source": [
    "Wir wollen nun bestimmte Kategorien besonders genau erkunden. Wir schauen bei denjenigen Kategorien etwas genauer hin, von denen wir eine besondere Bedeutung für das Datenverständnis oder die Prognose erwarten."
   ]
  },
  {
   "cell_type": "code",
   "execution_count": 13,
   "metadata": {},
   "outputs": [
    {
     "data": {
      "text/html": [
       "<div>\n",
       "<style scoped>\n",
       "    .dataframe tbody tr th:only-of-type {\n",
       "        vertical-align: middle;\n",
       "    }\n",
       "\n",
       "    .dataframe tbody tr th {\n",
       "        vertical-align: top;\n",
       "    }\n",
       "\n",
       "    .dataframe thead th {\n",
       "        text-align: right;\n",
       "    }\n",
       "</style>\n",
       "<table border=\"1\" class=\"dataframe\">\n",
       "  <thead>\n",
       "    <tr style=\"text-align: right;\">\n",
       "      <th></th>\n",
       "      <th>bike_number</th>\n",
       "      <th>start_station_id</th>\n",
       "      <th>end_station_id</th>\n",
       "    </tr>\n",
       "  </thead>\n",
       "  <tbody>\n",
       "    <tr>\n",
       "      <th>0</th>\n",
       "      <td>?(0x0000000074BEBCE4)</td>\n",
       "      <td>31219</td>\n",
       "      <td>31634</td>\n",
       "    </tr>\n",
       "    <tr>\n",
       "      <th>1</th>\n",
       "      <td>W00099</td>\n",
       "      <td>31219</td>\n",
       "      <td>31634</td>\n",
       "    </tr>\n",
       "    <tr>\n",
       "      <th>2</th>\n",
       "      <td>W00139</td>\n",
       "      <td>31219</td>\n",
       "      <td>31634</td>\n",
       "    </tr>\n",
       "    <tr>\n",
       "      <th>3</th>\n",
       "      <td>W00242</td>\n",
       "      <td>31219</td>\n",
       "      <td>31634</td>\n",
       "    </tr>\n",
       "    <tr>\n",
       "      <th>4</th>\n",
       "      <td>W00277</td>\n",
       "      <td>31219</td>\n",
       "      <td>31634</td>\n",
       "    </tr>\n",
       "    <tr>\n",
       "      <th>...</th>\n",
       "      <td>...</td>\n",
       "      <td>...</td>\n",
       "      <td>...</td>\n",
       "    </tr>\n",
       "    <tr>\n",
       "      <th>10232877</th>\n",
       "      <td>W23202</td>\n",
       "      <td>32211</td>\n",
       "      <td>32211</td>\n",
       "    </tr>\n",
       "    <tr>\n",
       "      <th>10232878</th>\n",
       "      <td>W23247</td>\n",
       "      <td>32211</td>\n",
       "      <td>32211</td>\n",
       "    </tr>\n",
       "    <tr>\n",
       "      <th>10232879</th>\n",
       "      <td>W23247</td>\n",
       "      <td>32211</td>\n",
       "      <td>32211</td>\n",
       "    </tr>\n",
       "    <tr>\n",
       "      <th>10232880</th>\n",
       "      <td>W23261</td>\n",
       "      <td>32211</td>\n",
       "      <td>32211</td>\n",
       "    </tr>\n",
       "    <tr>\n",
       "      <th>10232881</th>\n",
       "      <td>W23261</td>\n",
       "      <td>32211</td>\n",
       "      <td>32211</td>\n",
       "    </tr>\n",
       "  </tbody>\n",
       "</table>\n",
       "<p>10232882 rows × 3 columns</p>\n",
       "</div>"
      ],
      "text/plain": [
       "                    bike_number  start_station_id  end_station_id\n",
       "0         ?(0x0000000074BEBCE4)             31219           31634\n",
       "1                        W00099             31219           31634\n",
       "2                        W00139             31219           31634\n",
       "3                        W00242             31219           31634\n",
       "4                        W00277             31219           31634\n",
       "...                         ...               ...             ...\n",
       "10232877                 W23202             32211           32211\n",
       "10232878                 W23247             32211           32211\n",
       "10232879                 W23247             32211           32211\n",
       "10232880                 W23261             32211           32211\n",
       "10232881                 W23261             32211           32211\n",
       "\n",
       "[10232882 rows x 3 columns]"
      ]
     },
     "execution_count": 13,
     "metadata": {},
     "output_type": "execute_result"
    }
   ],
   "source": [
    "col_list1=[TARGET, 'start_station_id', 'end_station_id']\n",
    "df[col_list1]"
   ]
  },
  {
   "cell_type": "code",
   "execution_count": 3,
   "metadata": {},
   "outputs": [],
   "source": [
    "# Vgl. Ausleihvorgänge 0 - 4: \n",
    "# Die Fahrräder wurden an unterschiedlichen Stelle entnommen und abgegeben scheinen den identischen Weg zurückgelegt zu haben.\n",
    "\n",
    "# Vgl. Ausleihvorgänge 10232877 - 10232881:\n",
    "# Die Fahrräder wurden an den gleichen  Stellen entnommen und abgegeben. Es hat sich wohl um eine Rundfahrt gehandelt."
   ]
  },
  {
   "cell_type": "code",
   "execution_count": 15,
   "metadata": {},
   "outputs": [
    {
     "data": {
      "text/html": [
       "<div>\n",
       "<style scoped>\n",
       "    .dataframe tbody tr th:only-of-type {\n",
       "        vertical-align: middle;\n",
       "    }\n",
       "\n",
       "    .dataframe tbody tr th {\n",
       "        vertical-align: top;\n",
       "    }\n",
       "\n",
       "    .dataframe thead th {\n",
       "        text-align: right;\n",
       "    }\n",
       "</style>\n",
       "<table border=\"1\" class=\"dataframe\">\n",
       "  <thead>\n",
       "    <tr style=\"text-align: right;\">\n",
       "      <th></th>\n",
       "      <th>bike_number</th>\n",
       "      <th>start_ts</th>\n",
       "      <th>end_ts</th>\n",
       "    </tr>\n",
       "  </thead>\n",
       "  <tbody>\n",
       "    <tr>\n",
       "      <th>0</th>\n",
       "      <td>?(0x0000000074BEBCE4)</td>\n",
       "      <td>2015-10-15 10:58:35</td>\n",
       "      <td>2015-10-15 14:57:10</td>\n",
       "    </tr>\n",
       "    <tr>\n",
       "      <th>1</th>\n",
       "      <td>W00099</td>\n",
       "      <td>2016-07-08 20:44:21</td>\n",
       "      <td>2016-07-08 21:11:54</td>\n",
       "    </tr>\n",
       "    <tr>\n",
       "      <th>2</th>\n",
       "      <td>W00139</td>\n",
       "      <td>2017-10-14 19:47:46</td>\n",
       "      <td>2017-10-14 20:02:32</td>\n",
       "    </tr>\n",
       "    <tr>\n",
       "      <th>3</th>\n",
       "      <td>W00242</td>\n",
       "      <td>2017-05-14 15:50:53</td>\n",
       "      <td>2017-05-14 16:33:31</td>\n",
       "    </tr>\n",
       "    <tr>\n",
       "      <th>4</th>\n",
       "      <td>W00277</td>\n",
       "      <td>2016-06-22 19:03:37</td>\n",
       "      <td>2016-06-22 19:20:51</td>\n",
       "    </tr>\n",
       "    <tr>\n",
       "      <th>...</th>\n",
       "      <td>...</td>\n",
       "      <td>...</td>\n",
       "      <td>...</td>\n",
       "    </tr>\n",
       "    <tr>\n",
       "      <th>10232877</th>\n",
       "      <td>W23202</td>\n",
       "      <td>2017-10-14 12:46:54</td>\n",
       "      <td>2017-10-14 13:14:53</td>\n",
       "    </tr>\n",
       "    <tr>\n",
       "      <th>10232878</th>\n",
       "      <td>W23247</td>\n",
       "      <td>2017-06-18 12:34:17</td>\n",
       "      <td>2017-06-18 16:42:29</td>\n",
       "    </tr>\n",
       "    <tr>\n",
       "      <th>10232879</th>\n",
       "      <td>W23247</td>\n",
       "      <td>2017-08-06 18:42:16</td>\n",
       "      <td>2017-08-06 19:12:20</td>\n",
       "    </tr>\n",
       "    <tr>\n",
       "      <th>10232880</th>\n",
       "      <td>W23261</td>\n",
       "      <td>2016-11-05 19:12:56</td>\n",
       "      <td>2016-11-05 20:11:14</td>\n",
       "    </tr>\n",
       "    <tr>\n",
       "      <th>10232881</th>\n",
       "      <td>W23261</td>\n",
       "      <td>2016-11-06 15:11:39</td>\n",
       "      <td>2016-11-06 15:39:41</td>\n",
       "    </tr>\n",
       "  </tbody>\n",
       "</table>\n",
       "<p>10232882 rows × 3 columns</p>\n",
       "</div>"
      ],
      "text/plain": [
       "                    bike_number            start_ts              end_ts\n",
       "0         ?(0x0000000074BEBCE4) 2015-10-15 10:58:35 2015-10-15 14:57:10\n",
       "1                        W00099 2016-07-08 20:44:21 2016-07-08 21:11:54\n",
       "2                        W00139 2017-10-14 19:47:46 2017-10-14 20:02:32\n",
       "3                        W00242 2017-05-14 15:50:53 2017-05-14 16:33:31\n",
       "4                        W00277 2016-06-22 19:03:37 2016-06-22 19:20:51\n",
       "...                         ...                 ...                 ...\n",
       "10232877                 W23202 2017-10-14 12:46:54 2017-10-14 13:14:53\n",
       "10232878                 W23247 2017-06-18 12:34:17 2017-06-18 16:42:29\n",
       "10232879                 W23247 2017-08-06 18:42:16 2017-08-06 19:12:20\n",
       "10232880                 W23261 2016-11-05 19:12:56 2016-11-05 20:11:14\n",
       "10232881                 W23261 2016-11-06 15:11:39 2016-11-06 15:39:41\n",
       "\n",
       "[10232882 rows x 3 columns]"
      ]
     },
     "execution_count": 15,
     "metadata": {},
     "output_type": "execute_result"
    }
   ],
   "source": [
    "col_list2=[TARGET, 'start_ts', 'end_ts']\n",
    "df[col_list2]"
   ]
  },
  {
   "cell_type": "markdown",
   "metadata": {},
   "source": [
    "Es ist erkennbar, dass wir anhand den uns vorliegenden Daten herausfinden können, welche Fahrradausleihvorgänge ungefähr gleich lang sind aber auch, mit welchen Fahrrädern an welchen Tagen Ausleih- und Rückgabeaktionen stattfinden. Es wäre auch denkbar anhand identischen Startstationen-IDs und Endstationen-IDs alle identischen Routen  herauszufiltern. Mit diesen Daten könnten weiterhin Annahmen über unterschiedliche Kundentypen angestellt werden und deren Verhaltensmustern zu entdecken."
   ]
  },
  {
   "cell_type": "markdown",
   "metadata": {},
   "source": [
    "#### Anhand dieser Datentabelle haben wir uns folgende Fragen gestellt:\n",
    "- Gibt es Unterschiede in der Dauer der Fahrradvorgänge abhängig von den unterschiedlichen Fahrrädern? Gibt es Unterschiede im Modell (z.B. E-Bikes) oder in deren Zustand (z.B. Fahrräder kurz vor der Wartung)?\n",
    "- Wie lange brauchen Nutzer für die identische Strecke?\n",
    "- Gibt es Ausreißer bei der hier ersichtlichen Kurzfristigkeit des Ausleihvorgangs (also Ausleihen nur für 1 Tag)? \n",
    "- An welchen Tagen werden (welche Fahrräder/an welchen Stationen) am häufigsten ausgeliehen? Gibt es in der Verteilung Auffälligkeiten in den Ausleihvorgängen, die auf Veränderungen in der Infrastruktur hindeuten könnten?\n",
    "\n",
    "Uns interessiert zudem folgender, Business-Understandig relevanter Punkt: Gibt es Fristen für die Ausleihdauer, z.B. keine Ausleihe über 24 Stunden/Tag? Sind bestimmte Dauern an einen bestimmten Status gekoppelt? Gibt es starke Unterschiede in der Nutzungsgebühr je nach zunehmender Dauer des Ausleihvorgangs oder gegebenenfalls Sonderkonditionen für sehr kurze Strecken/Dauern?\n",
    " "
   ]
  },
  {
   "cell_type": "markdown",
   "metadata": {},
   "source": [
    "## Suche nach Ausreißern"
   ]
  },
  {
   "cell_type": "markdown",
   "metadata": {},
   "source": [
    "### Überprüfung auf seltene Werte bei nominalen Merkmalen"
   ]
  },
  {
   "cell_type": "code",
   "execution_count": 17,
   "metadata": {},
   "outputs": [
    {
     "name": "stderr",
     "output_type": "stream",
     "text": [
      "C:\\Users\\Deborah\\anaconda3\\lib\\site-packages\\ipykernel_launcher.py:1: FutureWarning: Treating datetime data as categorical rather than numeric in `.describe` is deprecated and will be removed in a future version of pandas. Specify `datetime_is_numeric=True` to silence this warning and adopt the future behavior now.\n",
      "  \"\"\"Entry point for launching an IPython kernel.\n",
      "C:\\Users\\Deborah\\anaconda3\\lib\\site-packages\\ipykernel_launcher.py:1: FutureWarning: Treating datetime data as categorical rather than numeric in `.describe` is deprecated and will be removed in a future version of pandas. Specify `datetime_is_numeric=True` to silence this warning and adopt the future behavior now.\n",
      "  \"\"\"Entry point for launching an IPython kernel.\n",
      "C:\\Users\\Deborah\\anaconda3\\lib\\site-packages\\ipykernel_launcher.py:1: FutureWarning: Treating datetime data as categorical rather than numeric in `.describe` is deprecated and will be removed in a future version of pandas. Specify `datetime_is_numeric=True` to silence this warning and adopt the future behavior now.\n",
      "  \"\"\"Entry point for launching an IPython kernel.\n",
      "C:\\Users\\Deborah\\anaconda3\\lib\\site-packages\\ipykernel_launcher.py:1: FutureWarning: Treating datetime data as categorical rather than numeric in `.describe` is deprecated and will be removed in a future version of pandas. Specify `datetime_is_numeric=True` to silence this warning and adopt the future behavior now.\n",
      "  \"\"\"Entry point for launching an IPython kernel.\n"
     ]
    },
    {
     "data": {
      "text/html": [
       "<div>\n",
       "<style scoped>\n",
       "    .dataframe tbody tr th:only-of-type {\n",
       "        vertical-align: middle;\n",
       "    }\n",
       "\n",
       "    .dataframe tbody tr th {\n",
       "        vertical-align: top;\n",
       "    }\n",
       "\n",
       "    .dataframe thead th {\n",
       "        text-align: right;\n",
       "    }\n",
       "</style>\n",
       "<table border=\"1\" class=\"dataframe\">\n",
       "  <thead>\n",
       "    <tr style=\"text-align: right;\">\n",
       "      <th></th>\n",
       "      <th>start_ts</th>\n",
       "      <th>end_ts</th>\n",
       "      <th>start_station_id</th>\n",
       "      <th>end_station_id</th>\n",
       "      <th>bike_number</th>\n",
       "      <th>Member type</th>\n",
       "      <th>start_date</th>\n",
       "      <th>start_hour</th>\n",
       "      <th>end_date</th>\n",
       "      <th>end_hour</th>\n",
       "      <th>Latitude_start_station</th>\n",
       "      <th>Longitude_start_station</th>\n",
       "      <th>Latitude_end_station</th>\n",
       "      <th>Longitude_end_station</th>\n",
       "      <th>start_day_of_week</th>\n",
       "      <th>end_day_of_week</th>\n",
       "    </tr>\n",
       "  </thead>\n",
       "  <tbody>\n",
       "    <tr>\n",
       "      <th>count</th>\n",
       "      <td>10232882</td>\n",
       "      <td>10232882</td>\n",
       "      <td>1.023288e+07</td>\n",
       "      <td>1.023288e+07</td>\n",
       "      <td>10232882</td>\n",
       "      <td>10232882</td>\n",
       "      <td>10232882</td>\n",
       "      <td>1.023288e+07</td>\n",
       "      <td>10232882</td>\n",
       "      <td>1.023288e+07</td>\n",
       "      <td>1.023288e+07</td>\n",
       "      <td>1.023288e+07</td>\n",
       "      <td>1.023288e+07</td>\n",
       "      <td>1.023288e+07</td>\n",
       "      <td>10232882</td>\n",
       "      <td>10232882</td>\n",
       "    </tr>\n",
       "    <tr>\n",
       "      <th>unique</th>\n",
       "      <td>9207674</td>\n",
       "      <td>9193138</td>\n",
       "      <td>NaN</td>\n",
       "      <td>NaN</td>\n",
       "      <td>4764</td>\n",
       "      <td>2</td>\n",
       "      <td>1092</td>\n",
       "      <td>NaN</td>\n",
       "      <td>1093</td>\n",
       "      <td>NaN</td>\n",
       "      <td>NaN</td>\n",
       "      <td>NaN</td>\n",
       "      <td>NaN</td>\n",
       "      <td>NaN</td>\n",
       "      <td>7</td>\n",
       "      <td>7</td>\n",
       "    </tr>\n",
       "    <tr>\n",
       "      <th>top</th>\n",
       "      <td>2016-07-20 17:35:24</td>\n",
       "      <td>2017-09-12 18:25:57</td>\n",
       "      <td>NaN</td>\n",
       "      <td>NaN</td>\n",
       "      <td>W21691</td>\n",
       "      <td>Member</td>\n",
       "      <td>2017-04-15 00:00:00</td>\n",
       "      <td>NaN</td>\n",
       "      <td>2017-04-15 00:00:00</td>\n",
       "      <td>NaN</td>\n",
       "      <td>NaN</td>\n",
       "      <td>NaN</td>\n",
       "      <td>NaN</td>\n",
       "      <td>NaN</td>\n",
       "      <td>Wednesday</td>\n",
       "      <td>Wednesday</td>\n",
       "    </tr>\n",
       "    <tr>\n",
       "      <th>freq</th>\n",
       "      <td>6</td>\n",
       "      <td>7</td>\n",
       "      <td>NaN</td>\n",
       "      <td>NaN</td>\n",
       "      <td>3899</td>\n",
       "      <td>7850613</td>\n",
       "      <td>16821</td>\n",
       "      <td>NaN</td>\n",
       "      <td>16782</td>\n",
       "      <td>NaN</td>\n",
       "      <td>NaN</td>\n",
       "      <td>NaN</td>\n",
       "      <td>NaN</td>\n",
       "      <td>NaN</td>\n",
       "      <td>1554870</td>\n",
       "      <td>1554646</td>\n",
       "    </tr>\n",
       "    <tr>\n",
       "      <th>first</th>\n",
       "      <td>2015-01-01 00:02:44</td>\n",
       "      <td>2015-01-01 00:12:20</td>\n",
       "      <td>NaN</td>\n",
       "      <td>NaN</td>\n",
       "      <td>NaN</td>\n",
       "      <td>NaN</td>\n",
       "      <td>2015-01-01 00:00:00</td>\n",
       "      <td>NaN</td>\n",
       "      <td>2015-01-01 00:00:00</td>\n",
       "      <td>NaN</td>\n",
       "      <td>NaN</td>\n",
       "      <td>NaN</td>\n",
       "      <td>NaN</td>\n",
       "      <td>NaN</td>\n",
       "      <td>NaN</td>\n",
       "      <td>NaN</td>\n",
       "    </tr>\n",
       "    <tr>\n",
       "      <th>last</th>\n",
       "      <td>2017-12-31 23:58:21</td>\n",
       "      <td>2018-01-01 00:19:42</td>\n",
       "      <td>NaN</td>\n",
       "      <td>NaN</td>\n",
       "      <td>NaN</td>\n",
       "      <td>NaN</td>\n",
       "      <td>2017-12-31 00:00:00</td>\n",
       "      <td>NaN</td>\n",
       "      <td>2018-01-01 00:00:00</td>\n",
       "      <td>NaN</td>\n",
       "      <td>NaN</td>\n",
       "      <td>NaN</td>\n",
       "      <td>NaN</td>\n",
       "      <td>NaN</td>\n",
       "      <td>NaN</td>\n",
       "      <td>NaN</td>\n",
       "    </tr>\n",
       "    <tr>\n",
       "      <th>mean</th>\n",
       "      <td>NaN</td>\n",
       "      <td>NaN</td>\n",
       "      <td>3.131214e+04</td>\n",
       "      <td>3.131291e+04</td>\n",
       "      <td>NaN</td>\n",
       "      <td>NaN</td>\n",
       "      <td>NaN</td>\n",
       "      <td>1.396184e+01</td>\n",
       "      <td>NaN</td>\n",
       "      <td>1.417818e+01</td>\n",
       "      <td>3.890168e+01</td>\n",
       "      <td>-7.703358e+01</td>\n",
       "      <td>3.890053e+01</td>\n",
       "      <td>-7.703297e+01</td>\n",
       "      <td>NaN</td>\n",
       "      <td>NaN</td>\n",
       "    </tr>\n",
       "    <tr>\n",
       "      <th>std</th>\n",
       "      <td>NaN</td>\n",
       "      <td>NaN</td>\n",
       "      <td>2.118838e+02</td>\n",
       "      <td>2.090978e+02</td>\n",
       "      <td>NaN</td>\n",
       "      <td>NaN</td>\n",
       "      <td>NaN</td>\n",
       "      <td>4.804140e+00</td>\n",
       "      <td>NaN</td>\n",
       "      <td>4.864247e+00</td>\n",
       "      <td>2.470865e-02</td>\n",
       "      <td>2.762716e-02</td>\n",
       "      <td>2.404722e-02</td>\n",
       "      <td>2.697558e-02</td>\n",
       "      <td>NaN</td>\n",
       "      <td>NaN</td>\n",
       "    </tr>\n",
       "    <tr>\n",
       "      <th>min</th>\n",
       "      <td>NaN</td>\n",
       "      <td>NaN</td>\n",
       "      <td>3.100000e+04</td>\n",
       "      <td>3.100000e+04</td>\n",
       "      <td>NaN</td>\n",
       "      <td>NaN</td>\n",
       "      <td>NaN</td>\n",
       "      <td>0.000000e+00</td>\n",
       "      <td>NaN</td>\n",
       "      <td>0.000000e+00</td>\n",
       "      <td>3.879756e+01</td>\n",
       "      <td>-7.736842e+01</td>\n",
       "      <td>3.879756e+01</td>\n",
       "      <td>-7.736842e+01</td>\n",
       "      <td>NaN</td>\n",
       "      <td>NaN</td>\n",
       "    </tr>\n",
       "    <tr>\n",
       "      <th>25%</th>\n",
       "      <td>NaN</td>\n",
       "      <td>NaN</td>\n",
       "      <td>3.120400e+04</td>\n",
       "      <td>3.120800e+04</td>\n",
       "      <td>NaN</td>\n",
       "      <td>NaN</td>\n",
       "      <td>NaN</td>\n",
       "      <td>1.000000e+01</td>\n",
       "      <td>NaN</td>\n",
       "      <td>1.000000e+01</td>\n",
       "      <td>3.889046e+01</td>\n",
       "      <td>-7.704500e+01</td>\n",
       "      <td>3.888999e+01</td>\n",
       "      <td>-7.704478e+01</td>\n",
       "      <td>NaN</td>\n",
       "      <td>NaN</td>\n",
       "    </tr>\n",
       "    <tr>\n",
       "      <th>50%</th>\n",
       "      <td>NaN</td>\n",
       "      <td>NaN</td>\n",
       "      <td>3.124900e+04</td>\n",
       "      <td>3.124800e+04</td>\n",
       "      <td>NaN</td>\n",
       "      <td>NaN</td>\n",
       "      <td>NaN</td>\n",
       "      <td>1.500000e+01</td>\n",
       "      <td>NaN</td>\n",
       "      <td>1.500000e+01</td>\n",
       "      <td>3.890041e+01</td>\n",
       "      <td>-7.703230e+01</td>\n",
       "      <td>3.890028e+01</td>\n",
       "      <td>-7.703230e+01</td>\n",
       "      <td>NaN</td>\n",
       "      <td>NaN</td>\n",
       "    </tr>\n",
       "    <tr>\n",
       "      <th>75%</th>\n",
       "      <td>NaN</td>\n",
       "      <td>NaN</td>\n",
       "      <td>3.140600e+04</td>\n",
       "      <td>3.140400e+04</td>\n",
       "      <td>NaN</td>\n",
       "      <td>NaN</td>\n",
       "      <td>NaN</td>\n",
       "      <td>1.800000e+01</td>\n",
       "      <td>NaN</td>\n",
       "      <td>1.800000e+01</td>\n",
       "      <td>3.891010e+01</td>\n",
       "      <td>-7.701780e+01</td>\n",
       "      <td>3.890939e+01</td>\n",
       "      <td>-7.701770e+01</td>\n",
       "      <td>NaN</td>\n",
       "      <td>NaN</td>\n",
       "    </tr>\n",
       "    <tr>\n",
       "      <th>max</th>\n",
       "      <td>NaN</td>\n",
       "      <td>NaN</td>\n",
       "      <td>3.222500e+04</td>\n",
       "      <td>3.222500e+04</td>\n",
       "      <td>NaN</td>\n",
       "      <td>NaN</td>\n",
       "      <td>NaN</td>\n",
       "      <td>2.300000e+01</td>\n",
       "      <td>NaN</td>\n",
       "      <td>2.300000e+01</td>\n",
       "      <td>3.912600e+01</td>\n",
       "      <td>-7.691356e+01</td>\n",
       "      <td>3.912600e+01</td>\n",
       "      <td>-7.691356e+01</td>\n",
       "      <td>NaN</td>\n",
       "      <td>NaN</td>\n",
       "    </tr>\n",
       "  </tbody>\n",
       "</table>\n",
       "</div>"
      ],
      "text/plain": [
       "                   start_ts               end_ts  start_station_id  \\\n",
       "count              10232882             10232882      1.023288e+07   \n",
       "unique              9207674              9193138               NaN   \n",
       "top     2016-07-20 17:35:24  2017-09-12 18:25:57               NaN   \n",
       "freq                      6                    7               NaN   \n",
       "first   2015-01-01 00:02:44  2015-01-01 00:12:20               NaN   \n",
       "last    2017-12-31 23:58:21  2018-01-01 00:19:42               NaN   \n",
       "mean                    NaN                  NaN      3.131214e+04   \n",
       "std                     NaN                  NaN      2.118838e+02   \n",
       "min                     NaN                  NaN      3.100000e+04   \n",
       "25%                     NaN                  NaN      3.120400e+04   \n",
       "50%                     NaN                  NaN      3.124900e+04   \n",
       "75%                     NaN                  NaN      3.140600e+04   \n",
       "max                     NaN                  NaN      3.222500e+04   \n",
       "\n",
       "        end_station_id bike_number Member type           start_date  \\\n",
       "count     1.023288e+07    10232882    10232882             10232882   \n",
       "unique             NaN        4764           2                 1092   \n",
       "top                NaN      W21691      Member  2017-04-15 00:00:00   \n",
       "freq               NaN        3899     7850613                16821   \n",
       "first              NaN         NaN         NaN  2015-01-01 00:00:00   \n",
       "last               NaN         NaN         NaN  2017-12-31 00:00:00   \n",
       "mean      3.131291e+04         NaN         NaN                  NaN   \n",
       "std       2.090978e+02         NaN         NaN                  NaN   \n",
       "min       3.100000e+04         NaN         NaN                  NaN   \n",
       "25%       3.120800e+04         NaN         NaN                  NaN   \n",
       "50%       3.124800e+04         NaN         NaN                  NaN   \n",
       "75%       3.140400e+04         NaN         NaN                  NaN   \n",
       "max       3.222500e+04         NaN         NaN                  NaN   \n",
       "\n",
       "          start_hour             end_date      end_hour  \\\n",
       "count   1.023288e+07             10232882  1.023288e+07   \n",
       "unique           NaN                 1093           NaN   \n",
       "top              NaN  2017-04-15 00:00:00           NaN   \n",
       "freq             NaN                16782           NaN   \n",
       "first            NaN  2015-01-01 00:00:00           NaN   \n",
       "last             NaN  2018-01-01 00:00:00           NaN   \n",
       "mean    1.396184e+01                  NaN  1.417818e+01   \n",
       "std     4.804140e+00                  NaN  4.864247e+00   \n",
       "min     0.000000e+00                  NaN  0.000000e+00   \n",
       "25%     1.000000e+01                  NaN  1.000000e+01   \n",
       "50%     1.500000e+01                  NaN  1.500000e+01   \n",
       "75%     1.800000e+01                  NaN  1.800000e+01   \n",
       "max     2.300000e+01                  NaN  2.300000e+01   \n",
       "\n",
       "        Latitude_start_station  Longitude_start_station  Latitude_end_station  \\\n",
       "count             1.023288e+07             1.023288e+07          1.023288e+07   \n",
       "unique                     NaN                      NaN                   NaN   \n",
       "top                        NaN                      NaN                   NaN   \n",
       "freq                       NaN                      NaN                   NaN   \n",
       "first                      NaN                      NaN                   NaN   \n",
       "last                       NaN                      NaN                   NaN   \n",
       "mean              3.890168e+01            -7.703358e+01          3.890053e+01   \n",
       "std               2.470865e-02             2.762716e-02          2.404722e-02   \n",
       "min               3.879756e+01            -7.736842e+01          3.879756e+01   \n",
       "25%               3.889046e+01            -7.704500e+01          3.888999e+01   \n",
       "50%               3.890041e+01            -7.703230e+01          3.890028e+01   \n",
       "75%               3.891010e+01            -7.701780e+01          3.890939e+01   \n",
       "max               3.912600e+01            -7.691356e+01          3.912600e+01   \n",
       "\n",
       "        Longitude_end_station start_day_of_week end_day_of_week  \n",
       "count            1.023288e+07          10232882        10232882  \n",
       "unique                    NaN                 7               7  \n",
       "top                       NaN         Wednesday       Wednesday  \n",
       "freq                      NaN           1554870         1554646  \n",
       "first                     NaN               NaN             NaN  \n",
       "last                      NaN               NaN             NaN  \n",
       "mean            -7.703297e+01               NaN             NaN  \n",
       "std              2.697558e-02               NaN             NaN  \n",
       "min             -7.736842e+01               NaN             NaN  \n",
       "25%             -7.704478e+01               NaN             NaN  \n",
       "50%             -7.703230e+01               NaN             NaN  \n",
       "75%             -7.701770e+01               NaN             NaN  \n",
       "max             -7.691356e+01               NaN             NaN  "
      ]
     },
     "execution_count": 17,
     "metadata": {},
     "output_type": "execute_result"
    }
   ],
   "source": [
    "df.describe(include='all')"
   ]
  },
  {
   "cell_type": "code",
   "execution_count": 18,
   "metadata": {},
   "outputs": [
    {
     "name": "stderr",
     "output_type": "stream",
     "text": [
      "C:\\Users\\Deborah\\anaconda3\\lib\\site-packages\\ipykernel_launcher.py:2: FutureWarning: Treating datetime data as categorical rather than numeric in `.describe` is deprecated and will be removed in a future version of pandas. Specify `datetime_is_numeric=True` to silence this warning and adopt the future behavior now.\n",
      "  \n",
      "C:\\Users\\Deborah\\anaconda3\\lib\\site-packages\\ipykernel_launcher.py:2: FutureWarning: Treating datetime data as categorical rather than numeric in `.describe` is deprecated and will be removed in a future version of pandas. Specify `datetime_is_numeric=True` to silence this warning and adopt the future behavior now.\n",
      "  \n",
      "C:\\Users\\Deborah\\anaconda3\\lib\\site-packages\\ipykernel_launcher.py:2: FutureWarning: Treating datetime data as categorical rather than numeric in `.describe` is deprecated and will be removed in a future version of pandas. Specify `datetime_is_numeric=True` to silence this warning and adopt the future behavior now.\n",
      "  \n",
      "C:\\Users\\Deborah\\anaconda3\\lib\\site-packages\\ipykernel_launcher.py:2: FutureWarning: Treating datetime data as categorical rather than numeric in `.describe` is deprecated and will be removed in a future version of pandas. Specify `datetime_is_numeric=True` to silence this warning and adopt the future behavior now.\n",
      "  \n"
     ]
    },
    {
     "data": {
      "text/html": [
       "<div>\n",
       "<style scoped>\n",
       "    .dataframe tbody tr th:only-of-type {\n",
       "        vertical-align: middle;\n",
       "    }\n",
       "\n",
       "    .dataframe tbody tr th {\n",
       "        vertical-align: top;\n",
       "    }\n",
       "\n",
       "    .dataframe thead th {\n",
       "        text-align: right;\n",
       "    }\n",
       "</style>\n",
       "<table border=\"1\" class=\"dataframe\">\n",
       "  <thead>\n",
       "    <tr style=\"text-align: right;\">\n",
       "      <th></th>\n",
       "      <th>start_ts</th>\n",
       "      <th>end_ts</th>\n",
       "      <th>bike_number</th>\n",
       "      <th>Member type</th>\n",
       "      <th>start_date</th>\n",
       "      <th>end_date</th>\n",
       "      <th>start_day_of_week</th>\n",
       "      <th>end_day_of_week</th>\n",
       "    </tr>\n",
       "  </thead>\n",
       "  <tbody>\n",
       "    <tr>\n",
       "      <th>count</th>\n",
       "      <td>10232882</td>\n",
       "      <td>10232882</td>\n",
       "      <td>10232882</td>\n",
       "      <td>10232882</td>\n",
       "      <td>10232882</td>\n",
       "      <td>10232882</td>\n",
       "      <td>10232882</td>\n",
       "      <td>10232882</td>\n",
       "    </tr>\n",
       "    <tr>\n",
       "      <th>unique</th>\n",
       "      <td>9207674</td>\n",
       "      <td>9193138</td>\n",
       "      <td>4764</td>\n",
       "      <td>2</td>\n",
       "      <td>1092</td>\n",
       "      <td>1093</td>\n",
       "      <td>7</td>\n",
       "      <td>7</td>\n",
       "    </tr>\n",
       "    <tr>\n",
       "      <th>top</th>\n",
       "      <td>2016-07-20 17:35:24</td>\n",
       "      <td>2017-09-12 18:25:57</td>\n",
       "      <td>W21691</td>\n",
       "      <td>Member</td>\n",
       "      <td>2017-04-15 00:00:00</td>\n",
       "      <td>2017-04-15 00:00:00</td>\n",
       "      <td>Wednesday</td>\n",
       "      <td>Wednesday</td>\n",
       "    </tr>\n",
       "    <tr>\n",
       "      <th>freq</th>\n",
       "      <td>6</td>\n",
       "      <td>7</td>\n",
       "      <td>3899</td>\n",
       "      <td>7850613</td>\n",
       "      <td>16821</td>\n",
       "      <td>16782</td>\n",
       "      <td>1554870</td>\n",
       "      <td>1554646</td>\n",
       "    </tr>\n",
       "    <tr>\n",
       "      <th>first</th>\n",
       "      <td>2015-01-01 00:02:44</td>\n",
       "      <td>2015-01-01 00:12:20</td>\n",
       "      <td>NaN</td>\n",
       "      <td>NaN</td>\n",
       "      <td>2015-01-01 00:00:00</td>\n",
       "      <td>2015-01-01 00:00:00</td>\n",
       "      <td>NaN</td>\n",
       "      <td>NaN</td>\n",
       "    </tr>\n",
       "    <tr>\n",
       "      <th>last</th>\n",
       "      <td>2017-12-31 23:58:21</td>\n",
       "      <td>2018-01-01 00:19:42</td>\n",
       "      <td>NaN</td>\n",
       "      <td>NaN</td>\n",
       "      <td>2017-12-31 00:00:00</td>\n",
       "      <td>2018-01-01 00:00:00</td>\n",
       "      <td>NaN</td>\n",
       "      <td>NaN</td>\n",
       "    </tr>\n",
       "  </tbody>\n",
       "</table>\n",
       "</div>"
      ],
      "text/plain": [
       "                   start_ts               end_ts bike_number Member type  \\\n",
       "count              10232882             10232882    10232882    10232882   \n",
       "unique              9207674              9193138        4764           2   \n",
       "top     2016-07-20 17:35:24  2017-09-12 18:25:57      W21691      Member   \n",
       "freq                      6                    7        3899     7850613   \n",
       "first   2015-01-01 00:02:44  2015-01-01 00:12:20         NaN         NaN   \n",
       "last    2017-12-31 23:58:21  2018-01-01 00:19:42         NaN         NaN   \n",
       "\n",
       "                 start_date             end_date start_day_of_week  \\\n",
       "count              10232882             10232882          10232882   \n",
       "unique                 1092                 1093                 7   \n",
       "top     2017-04-15 00:00:00  2017-04-15 00:00:00         Wednesday   \n",
       "freq                  16821                16782           1554870   \n",
       "first   2015-01-01 00:00:00  2015-01-01 00:00:00               NaN   \n",
       "last    2017-12-31 00:00:00  2018-01-01 00:00:00               NaN   \n",
       "\n",
       "       end_day_of_week  \n",
       "count         10232882  \n",
       "unique               7  \n",
       "top          Wednesday  \n",
       "freq           1554646  \n",
       "first              NaN  \n",
       "last               NaN  "
      ]
     },
     "execution_count": 18,
     "metadata": {},
     "output_type": "execute_result"
    }
   ],
   "source": [
    "# Zusammenfassung der nominalen (nicht numerischen) Merkmale mit *describe*\n",
    "df.describe(exclude=np.number)"
   ]
  },
  {
   "cell_type": "markdown",
   "metadata": {},
   "source": [
    "Hinweis: Die Fahrrad-Nr. (bike_number) setzt sich wie folgt zusammen: W + 5 Zahlen.\n",
    "Gibt es hier ggf. eine bestimmte ID-Vergabe, die abhängig von Stations-IDs ist?"
   ]
  },
  {
   "cell_type": "code",
   "execution_count": 20,
   "metadata": {},
   "outputs": [
    {
     "data": {
      "text/plain": [
       "2016-07-20 17:35:24    6\n",
       "2016-04-03 15:32:05    6\n",
       "2016-07-21 07:17:56    6\n",
       "2016-06-29 08:10:38    6\n",
       "2016-09-13 07:41:44    6\n",
       "                      ..\n",
       "2017-07-12 09:06:30    1\n",
       "2017-03-18 16:14:01    1\n",
       "2015-04-19 10:01:40    1\n",
       "2017-07-03 23:32:45    1\n",
       "2016-03-06 06:53:23    1\n",
       "Name: start_ts, Length: 9207674, dtype: int64"
      ]
     },
     "execution_count": 20,
     "metadata": {},
     "output_type": "execute_result"
    }
   ],
   "source": [
    "# Wir schauen uns die Häufigkeitsverteilungen der hier oben zusammengefassten Datentypen von links bis rechts an, um seltene Ausprägungen ausfindig zu machen.\n",
    "df['start_ts'].value_counts()"
   ]
  },
  {
   "cell_type": "code",
   "execution_count": 21,
   "metadata": {},
   "outputs": [
    {
     "data": {
      "text/plain": [
       "2017-09-12 18:25:57    7\n",
       "2017-05-03 18:36:58    7\n",
       "2017-07-06 18:07:31    6\n",
       "2017-10-07 10:49:27    6\n",
       "2017-07-25 17:56:32    6\n",
       "                      ..\n",
       "2015-04-29 09:14:34    1\n",
       "2017-02-13 14:50:57    1\n",
       "2016-08-18 21:50:11    1\n",
       "2017-10-06 18:05:45    1\n",
       "2017-11-03 07:50:37    1\n",
       "Name: end_ts, Length: 9193138, dtype: int64"
      ]
     },
     "execution_count": 21,
     "metadata": {},
     "output_type": "execute_result"
    }
   ],
   "source": [
    "df['end_ts'].value_counts()"
   ]
  },
  {
   "cell_type": "code",
   "execution_count": 4,
   "metadata": {},
   "outputs": [],
   "source": [
    "# Hieraus kann auf den ersten Blick nichts erschlossen werden, wir sollten die Daten visualisieren.\n",
    "# Können wir mithilfe der Stundenaggregation gegebenenfalls auch Top-Stationen herausfiltern und visualisieren?"
   ]
  },
  {
   "cell_type": "code",
   "execution_count": 23,
   "metadata": {},
   "outputs": [
    {
     "data": {
      "text/plain": [
       "W21691    3899\n",
       "W21640    3831\n",
       "W22170    3799\n",
       "W21852    3770\n",
       "W22072    3736\n",
       "          ... \n",
       "W20062      23\n",
       "W99910      22\n",
       "W20105      15\n",
       "W20181      14\n",
       "W00896      12\n",
       "Name: bike_number, Length: 4764, dtype: int64"
      ]
     },
     "execution_count": 23,
     "metadata": {},
     "output_type": "execute_result"
    }
   ],
   "source": [
    "df['bike_number'].value_counts()"
   ]
  },
  {
   "cell_type": "markdown",
   "metadata": {},
   "source": [
    "Diese Daten haben nun folgende Fragen bei uns aufgeworfen:\n",
    "- Wieso werden manche Fahrräder viel seltener ausgeliehen als andere?\n",
    "- Können wir bestimmte Fahrräder mit bestimmten festen Stationen in Verbindung bringen?\n",
    "- Können wir die Bewegung von Fahrrädern nachverfolgen und so z.B. nachvollziehen, an welchen Stationen deren \"Bewegung\" durch weitere Ausleihvorgänge stoppt? Unser erste Gedanke war hier: Sollen wir versuchen, eine Netzwerkanalyse anzuwenden?\n",
    "- Gibt es Fahrräder die schnell wieder abgegeben werden als andere, was z.B. darauf hindeuten könnte, dass sie bald zur Wartung müssen oder, dass Nutzer Probleme damit haben? Gibt es längere, im Sinne von außerordentliche, Standzeiten? \"Verschwinden\" einzelne Fahrräder vielleicht sogar?\n",
    "- Ggf. kann man hier auch erkennen, dass es Probleme beim Ausleihvorgang per se gibt, weil das Fahrrad sich von normalerweise viel frequentierten Stationeb nicht mehr wegbewegt?"
   ]
  },
  {
   "cell_type": "code",
   "execution_count": 25,
   "metadata": {},
   "outputs": [
    {
     "data": {
      "text/plain": [
       "<bound method IndexOpsMixin.value_counts of 0          2015-10-15\n",
       "1          2016-07-08\n",
       "2          2017-10-14\n",
       "3          2017-05-14\n",
       "4          2016-06-22\n",
       "              ...    \n",
       "10232877   2017-10-14\n",
       "10232878   2017-06-18\n",
       "10232879   2017-08-06\n",
       "10232880   2016-11-05\n",
       "10232881   2016-11-06\n",
       "Name: start_date, Length: 10232882, dtype: datetime64[ns]>"
      ]
     },
     "execution_count": 25,
     "metadata": {},
     "output_type": "execute_result"
    }
   ],
   "source": [
    "df['start_date'].value_counts"
   ]
  },
  {
   "cell_type": "code",
   "execution_count": 26,
   "metadata": {},
   "outputs": [
    {
     "data": {
      "text/plain": [
       "<bound method IndexOpsMixin.value_counts of 0          2015-10-15\n",
       "1          2016-07-08\n",
       "2          2017-10-14\n",
       "3          2017-05-14\n",
       "4          2016-06-22\n",
       "              ...    \n",
       "10232877   2017-10-14\n",
       "10232878   2017-06-18\n",
       "10232879   2017-08-06\n",
       "10232880   2016-11-05\n",
       "10232881   2016-11-06\n",
       "Name: end_date, Length: 10232882, dtype: datetime64[ns]>"
      ]
     },
     "execution_count": 26,
     "metadata": {},
     "output_type": "execute_result"
    }
   ],
   "source": [
    "df['end_date'].value_counts"
   ]
  },
  {
   "cell_type": "code",
   "execution_count": 27,
   "metadata": {},
   "outputs": [],
   "source": [
    "# Hieraus kann auf den ersten Blick nichts erschlossen werden, wir sollten die Daten visualisieren."
   ]
  },
  {
   "cell_type": "markdown",
   "metadata": {},
   "source": [
    "Unsere ersten Erkenntnisse:\n",
    "Die Verteilung Start- und End-Wochentage scheinen sich sehr zu ähneln.\n",
    "Es ist auffällig, dass es im Großen und Ganzen unter der Woche mehr Ausleihvorgänge gibt als am Wochenende.\n",
    "Wir sollten uns das genauer anschauen und bei den Ausleihvorgängen \"unter der Woche\" auch die Feier-/Ferientage aussortieren. Diese könnten z.B. mit Wochenendtagen gleichgesetzt werden.\n",
    "\n",
    "Eine uns nun besonders beschäftigende Frage: Gibt es konkrete Verteilungs-/Verhaltensunterschiede am Wochenende und unter der Woche?"
   ]
  },
  {
   "cell_type": "code",
   "execution_count": 29,
   "metadata": {},
   "outputs": [
    {
     "data": {
      "text/plain": [
       "31623    208889\n",
       "31258    195279\n",
       "31247    172899\n",
       "31200    155122\n",
       "31201    126116\n",
       "          ...  \n",
       "32072        23\n",
       "31817        20\n",
       "31819        11\n",
       "31715        10\n",
       "31815         8\n",
       "Name: start_station_id, Length: 483, dtype: int64"
      ]
     },
     "execution_count": 29,
     "metadata": {},
     "output_type": "execute_result"
    }
   ],
   "source": [
    "df['start_station_id'].value_counts()"
   ]
  },
  {
   "cell_type": "code",
   "execution_count": 30,
   "metadata": {},
   "outputs": [
    {
     "data": {
      "text/plain": [
       "31623    218024\n",
       "31258    195938\n",
       "31247    178054\n",
       "31200    173026\n",
       "31201    135701\n",
       "          ...  \n",
       "31817        29\n",
       "32072        16\n",
       "31715        13\n",
       "31815        13\n",
       "31819         4\n",
       "Name: end_station_id, Length: 483, dtype: int64"
      ]
     },
     "execution_count": 30,
     "metadata": {},
     "output_type": "execute_result"
    }
   ],
   "source": [
    "df['end_station_id'].value_counts()"
   ]
  },
  {
   "cell_type": "code",
   "execution_count": 31,
   "metadata": {},
   "outputs": [],
   "source": [
    "# Die Start- und End-Stationen werden sehr unterschiedlich häufig frequentiert.\n",
    "# Wieso ist das so?!"
   ]
  },
  {
   "cell_type": "markdown",
   "metadata": {},
   "source": [
    "### Überprüfung auf seltene Werte bei numerischen Merkmalen"
   ]
  },
  {
   "cell_type": "code",
   "execution_count": 32,
   "metadata": {},
   "outputs": [
    {
     "data": {
      "text/plain": [
       "<bound method NDFrame.describe of 0           31219\n",
       "1           31219\n",
       "2           31219\n",
       "3           31219\n",
       "4           31219\n",
       "            ...  \n",
       "10232877    32211\n",
       "10232878    32211\n",
       "10232879    32211\n",
       "10232880    32211\n",
       "10232881    32211\n",
       "Name: start_station_id, Length: 10232882, dtype: int64>"
      ]
     },
     "execution_count": 32,
     "metadata": {},
     "output_type": "execute_result"
    }
   ],
   "source": [
    "df['start_station_id'].describe"
   ]
  },
  {
   "cell_type": "code",
   "execution_count": 33,
   "metadata": {},
   "outputs": [
    {
     "data": {
      "text/plain": [
       "<bound method NDFrame.describe of 0           31634\n",
       "1           31634\n",
       "2           31634\n",
       "3           31634\n",
       "4           31634\n",
       "            ...  \n",
       "10232877    32211\n",
       "10232878    32211\n",
       "10232879    32211\n",
       "10232880    32211\n",
       "10232881    32211\n",
       "Name: end_station_id, Length: 10232882, dtype: int64>"
      ]
     },
     "execution_count": 33,
     "metadata": {},
     "output_type": "execute_result"
    }
   ],
   "source": [
    "df['end_station_id'].describe"
   ]
  },
  {
   "cell_type": "code",
   "execution_count": 34,
   "metadata": {},
   "outputs": [],
   "source": [
    "# Wie häufig kommen welche Stationen vor?"
   ]
  },
  {
   "cell_type": "code",
   "execution_count": 35,
   "metadata": {},
   "outputs": [
    {
     "data": {
      "text/plain": [
       "31623    208889\n",
       "31258    195279\n",
       "31247    172899\n",
       "31200    155122\n",
       "31201    126116\n",
       "          ...  \n",
       "32072        23\n",
       "31817        20\n",
       "31819        11\n",
       "31715        10\n",
       "31815         8\n",
       "Name: start_station_id, Length: 483, dtype: int64"
      ]
     },
     "execution_count": 35,
     "metadata": {},
     "output_type": "execute_result"
    }
   ],
   "source": [
    "df['start_station_id'].value_counts()"
   ]
  },
  {
   "cell_type": "code",
   "execution_count": 36,
   "metadata": {},
   "outputs": [
    {
     "data": {
      "text/plain": [
       "31623    218024\n",
       "31258    195938\n",
       "31247    178054\n",
       "31200    173026\n",
       "31201    135701\n",
       "          ...  \n",
       "31817        29\n",
       "32072        16\n",
       "31715        13\n",
       "31815        13\n",
       "31819         4\n",
       "Name: end_station_id, Length: 483, dtype: int64"
      ]
     },
     "execution_count": 36,
     "metadata": {},
     "output_type": "execute_result"
    }
   ],
   "source": [
    "df['end_station_id'].value_counts()"
   ]
  },
  {
   "cell_type": "code",
   "execution_count": 37,
   "metadata": {},
   "outputs": [
    {
     "data": {
      "text/plain": [
       "<bound method NDFrame.describe of 0           10\n",
       "1           20\n",
       "2           19\n",
       "3           15\n",
       "4           19\n",
       "            ..\n",
       "10232877    12\n",
       "10232878    12\n",
       "10232879    18\n",
       "10232880    19\n",
       "10232881    15\n",
       "Name: start_hour, Length: 10232882, dtype: int64>"
      ]
     },
     "execution_count": 37,
     "metadata": {},
     "output_type": "execute_result"
    }
   ],
   "source": [
    "df['start_hour'].describe"
   ]
  },
  {
   "cell_type": "code",
   "execution_count": 38,
   "metadata": {},
   "outputs": [
    {
     "data": {
      "text/plain": [
       "<bound method NDFrame.describe of 0           14\n",
       "1           21\n",
       "2           20\n",
       "3           16\n",
       "4           19\n",
       "            ..\n",
       "10232877    13\n",
       "10232878    16\n",
       "10232879    19\n",
       "10232880    20\n",
       "10232881    15\n",
       "Name: end_hour, Length: 10232882, dtype: int64>"
      ]
     },
     "execution_count": 38,
     "metadata": {},
     "output_type": "execute_result"
    }
   ],
   "source": [
    "df['end_hour'].describe"
   ]
  },
  {
   "cell_type": "code",
   "execution_count": 39,
   "metadata": {},
   "outputs": [],
   "source": [
    "# Wie häufig sind welche Start- und End-Uhrzeiten vorhanden?"
   ]
  },
  {
   "cell_type": "code",
   "execution_count": 40,
   "metadata": {},
   "outputs": [
    {
     "data": {
      "text/plain": [
       "17    1128191\n",
       "18     942794\n",
       "8      850096\n",
       "16     783326\n",
       "19     637606\n",
       "15     620498\n",
       "13     579431\n",
       "12     578444\n",
       "14     562783\n",
       "7      561741\n",
       "9      501529\n",
       "11     487385\n",
       "20     443630\n",
       "10     408395\n",
       "21     322256\n",
       "22     231638\n",
       "6      212323\n",
       "23     139564\n",
       "0       79622\n",
       "5       62366\n",
       "1       46068\n",
       "2       28276\n",
       "3       13702\n",
       "4       11218\n",
       "Name: start_hour, dtype: int64"
      ]
     },
     "execution_count": 40,
     "metadata": {},
     "output_type": "execute_result"
    }
   ],
   "source": [
    "df['start_hour'].value_counts()"
   ]
  },
  {
   "cell_type": "code",
   "execution_count": 41,
   "metadata": {},
   "outputs": [
    {
     "data": {
      "text/plain": [
       "17    1094889\n",
       "18    1031221\n",
       "8      837296\n",
       "16     745540\n",
       "19     704018\n",
       "15     604789\n",
       "13     573041\n",
       "9      553791\n",
       "14     552100\n",
       "12     551605\n",
       "20     491044\n",
       "7      469323\n",
       "11     439571\n",
       "10     380479\n",
       "21     349575\n",
       "22     259139\n",
       "6      174141\n",
       "23     163163\n",
       "0       93273\n",
       "1       53962\n",
       "5       50276\n",
       "2       32809\n",
       "3       17194\n",
       "4       10643\n",
       "Name: end_hour, dtype: int64"
      ]
     },
     "execution_count": 41,
     "metadata": {},
     "output_type": "execute_result"
    }
   ],
   "source": [
    "df['end_hour'].value_counts()"
   ]
  },
  {
   "cell_type": "markdown",
   "metadata": {},
   "source": [
    "#### Um Ausreißer in Ausleihvorgängen besser zu erkennen, versuchen wir sie im ersten Schritt in Boxplots zu visualisieren."
   ]
  },
  {
   "cell_type": "code",
   "execution_count": 42,
   "metadata": {},
   "outputs": [],
   "source": [
    "# Wir schauen uns die nominalen Werte in Verbindung mit der Zielgröße an."
   ]
  },
  {
   "cell_type": "code",
   "execution_count": 43,
   "metadata": {},
   "outputs": [
    {
     "data": {
      "text/plain": [
       "Index(['start_station_id', 'end_station_id', 'start_hour', 'end_hour',\n",
       "       'Latitude_start_station', 'Longitude_start_station',\n",
       "       'Latitude_end_station', 'Longitude_end_station'],\n",
       "      dtype='object')"
      ]
     },
     "execution_count": 43,
     "metadata": {},
     "output_type": "execute_result"
    }
   ],
   "source": [
    "df.select_dtypes(include=[np.number]).columns"
   ]
  },
  {
   "cell_type": "markdown",
   "metadata": {},
   "source": [
    "Um uns die Ausleihvorgänge der einzelnen Fahrräder pro Wochentag anzuschauen, brauchen wir die Summe der Häufigkeiten der ausgeliehenen Fahrräder an den einzelnen Wochentagen."
   ]
  },
  {
   "cell_type": "code",
   "execution_count": 45,
   "metadata": {},
   "outputs": [
    {
     "data": {
      "text/plain": [
       "Index(['start_station_id', 'end_station_id', 'start_hour', 'end_hour',\n",
       "       'Latitude_start_station', 'Longitude_start_station',\n",
       "       'Latitude_end_station', 'Longitude_end_station'],\n",
       "      dtype='object')"
      ]
     },
     "execution_count": 45,
     "metadata": {},
     "output_type": "execute_result"
    }
   ],
   "source": [
    "col_num = df.select_dtypes(include=[np.number]).columns\n",
    "col_num"
   ]
  },
  {
   "cell_type": "code",
   "execution_count": 46,
   "metadata": {},
   "outputs": [
    {
     "data": {
      "image/png": "[encoded data removed]",
      "text/plain": [
       "<Figure size 720x720 with 8 Axes>"
      ]
     },
     "metadata": {
      "needs_background": "light"
     },
     "output_type": "display_data"
    }
   ],
   "source": [
    "# Visuelle Überprüfung auf Ausreißer mit Hilfe von individuellen Boxplots\n",
    "def show_boxplots(df):\n",
    "    # Namen der numerische Merkmale extrahieren\n",
    "    cols_num = df.select_dtypes(include=[np.number]).columns\n",
    "    fig, axes = plt.subplots(nrows=len(cols_num), ncols=1, figsize=(10,10))\n",
    "    # Boxplot für jedes numerische Merkmal\n",
    "    for i in range(len(cols_num)):\n",
    "        sns.boxplot(x=cols_num[i], orient='h', data=df, ax=axes[i])\n",
    "\n",
    "    # improve spacing and show\n",
    "    fig.tight_layout()\n",
    "    plt.show()\n",
    "\n",
    "show_boxplots(df)"
   ]
  },
  {
   "cell_type": "code",
   "execution_count": 68,
   "metadata": {},
   "outputs": [],
   "source": [
    "def outliers_boxplot(values):\n",
    "    q1, q3 = np.percentile(values, [25, 75])\n",
    "    iqr = q3 - q1\n",
    "    lower_bound = q1 - (iqr * 1.5)\n",
    "    upper_bound = q3 + (iqr * 1.5)\n",
    "    return np.where((values > upper_bound) | (values < lower_bound))\n",
    "    return (values > upper_bound) | (values < lower_bound)"
   ]
  },
  {
   "cell_type": "code",
   "execution_count": 67,
   "metadata": {},
   "outputs": [
    {
     "data": {
      "text/plain": [
       "(array([       0,        0,        1, ..., 10232880, 10232881, 10232881],\n",
       "       dtype=int64),\n",
       " array([0, 1, 0, ..., 1, 0, 1], dtype=int64))"
      ]
     },
     "execution_count": 67,
     "metadata": {},
     "output_type": "execute_result"
    }
   ],
   "source": [
    "outliers_boxplot(df.select_dtypes(include=[np.number]))"
   ]
  },
  {
   "cell_type": "code",
   "execution_count": 6,
   "metadata": {},
   "outputs": [],
   "source": [
    "# print(df[ np.abs(df['start_date'] - df['start_date'].mean()) > 1.5*df['start_date'].std() ])\n",
    "# Funktioniert erst nach Standardisierung."
   ]
  },
  {
   "cell_type": "markdown",
   "metadata": {},
   "source": [
    "### Verteilung der Zielgröße \"Bike_number\""
   ]
  },
  {
   "cell_type": "code",
   "execution_count": 48,
   "metadata": {},
   "outputs": [
    {
     "data": {
      "text/plain": [
       "W21691    3899\n",
       "W21640    3831\n",
       "W22170    3799\n",
       "W21852    3770\n",
       "W22072    3736\n",
       "          ... \n",
       "W20062      23\n",
       "W99910      22\n",
       "W20105      15\n",
       "W20181      14\n",
       "W00896      12\n",
       "Name: bike_number, Length: 4764, dtype: int64"
      ]
     },
     "execution_count": 48,
     "metadata": {},
     "output_type": "execute_result"
    }
   ],
   "source": [
    "ht = df[TARGET].value_counts()\n",
    "ht"
   ]
  },
  {
   "cell_type": "code",
   "execution_count": 49,
   "metadata": {},
   "outputs": [
    {
     "data": {
      "text/plain": [
       "Index(['W21691', 'W21640', 'W22170', 'W21852', 'W22072', 'W21735', 'W21714',\n",
       "       'W21041', 'W22131', 'W21512',\n",
       "       ...\n",
       "       'W00924', 'W23043', 'W23413', 'W00096', 'W23415', 'W20062', 'W99910',\n",
       "       'W20105', 'W20181', 'W00896'],\n",
       "      dtype='object', length=4764)"
      ]
     },
     "execution_count": 49,
     "metadata": {},
     "output_type": "execute_result"
    }
   ],
   "source": [
    "ht.index"
   ]
  },
  {
   "cell_type": "code",
   "execution_count": 50,
   "metadata": {},
   "outputs": [
    {
     "data": {
      "image/png": "[encoded data removed]",
      "text/plain": [
       "<Figure size 432x288 with 1 Axes>"
      ]
     },
     "metadata": {
      "needs_background": "light"
     },
     "output_type": "display_data"
    }
   ],
   "source": [
    "sns.countplot(x=TARGET, data=df.sample(frac=1.0));"
   ]
  },
  {
   "cell_type": "markdown",
   "metadata": {},
   "source": [
    "##### Häufigkeitsverteilung:"
   ]
  },
  {
   "cell_type": "code",
   "execution_count": 51,
   "metadata": {},
   "outputs": [
    {
     "data": {
      "image/png": "[encoded data removed]",
      "text/plain": [
       "<Figure size 432x288 with 1 Axes>"
      ]
     },
     "metadata": {
      "needs_background": "light"
     },
     "output_type": "display_data"
    }
   ],
   "source": [
    "sns.barplot(ht.index,ht.values, order=ht.index.values, tick_label = ht.values);"
   ]
  },
  {
   "cell_type": "code",
   "execution_count": 52,
   "metadata": {},
   "outputs": [],
   "source": [
    "# Man kann erkennen, dass manche Fahrräder im Vergleich zu Anderen unterdurchschnittlich selten ausgeliehen werden."
   ]
  },
  {
   "cell_type": "markdown",
   "metadata": {},
   "source": [
    "### Verteilung der Zielgröße \"start_station_id\""
   ]
  },
  {
   "cell_type": "code",
   "execution_count": 53,
   "metadata": {},
   "outputs": [
    {
     "data": {
      "text/plain": [
       "31623    208889\n",
       "31258    195279\n",
       "31247    172899\n",
       "31200    155122\n",
       "31201    126116\n",
       "          ...  \n",
       "32072        23\n",
       "31817        20\n",
       "31819        11\n",
       "31715        10\n",
       "31815         8\n",
       "Name: start_station_id, Length: 483, dtype: int64"
      ]
     },
     "execution_count": 53,
     "metadata": {},
     "output_type": "execute_result"
    }
   ],
   "source": [
    "TARGET2='start_station_id'\n",
    "ht2 = df[TARGET2].value_counts()\n",
    "ht2"
   ]
  },
  {
   "cell_type": "code",
   "execution_count": 54,
   "metadata": {},
   "outputs": [
    {
     "data": {
      "image/png": "[encoded data removed]",
      "text/plain": [
       "<Figure size 432x288 with 1 Axes>"
      ]
     },
     "metadata": {
      "needs_background": "light"
     },
     "output_type": "display_data"
    }
   ],
   "source": [
    "sns.countplot(x=TARGET2, data=df.sample(frac=1.0));"
   ]
  },
  {
   "cell_type": "markdown",
   "metadata": {},
   "source": [
    "##### Häufigkeitsverteilung (Achtung, andere Farben!)"
   ]
  },
  {
   "cell_type": "code",
   "execution_count": 55,
   "metadata": {},
   "outputs": [
    {
     "data": {
      "image/png": "[encoded data removed]",
      "text/plain": [
       "<Figure size 432x288 with 1 Axes>"
      ]
     },
     "metadata": {
      "needs_background": "light"
     },
     "output_type": "display_data"
    }
   ],
   "source": [
    "sns.barplot(ht2.index,ht2.values, order=ht2.index.values, tick_label = ht2.values);"
   ]
  },
  {
   "cell_type": "markdown",
   "metadata": {},
   "source": [
    "### Verteilung der Zielgröße \"end_station_id\""
   ]
  },
  {
   "cell_type": "code",
   "execution_count": 56,
   "metadata": {},
   "outputs": [
    {
     "data": {
      "text/plain": [
       "31623    218024\n",
       "31258    195938\n",
       "31247    178054\n",
       "31200    173026\n",
       "31201    135701\n",
       "          ...  \n",
       "31817        29\n",
       "32072        16\n",
       "31715        13\n",
       "31815        13\n",
       "31819         4\n",
       "Name: end_station_id, Length: 483, dtype: int64"
      ]
     },
     "execution_count": 56,
     "metadata": {},
     "output_type": "execute_result"
    }
   ],
   "source": [
    "TARGET3='end_station_id'\n",
    "ht3 = df[TARGET3].value_counts()\n",
    "ht3"
   ]
  },
  {
   "cell_type": "code",
   "execution_count": 57,
   "metadata": {},
   "outputs": [
    {
     "data": {
      "image/png": "[encoded data removed]",
      "text/plain": [
       "<Figure size 432x288 with 1 Axes>"
      ]
     },
     "metadata": {
      "needs_background": "light"
     },
     "output_type": "display_data"
    }
   ],
   "source": [
    "sns.countplot(x=TARGET3, data=df.sample(frac=1.0));"
   ]
  },
  {
   "cell_type": "markdown",
   "metadata": {},
   "source": [
    "#####  Häufigkeitsverteilung (Achtung, andere Farben!)"
   ]
  },
  {
   "cell_type": "code",
   "execution_count": 58,
   "metadata": {},
   "outputs": [
    {
     "data": {
      "image/png": "[encoded data removed]",
      "text/plain": [
       "<Figure size 432x288 with 1 Axes>"
      ]
     },
     "metadata": {
      "needs_background": "light"
     },
     "output_type": "display_data"
    }
   ],
   "source": [
    "sns.barplot(ht2.index,ht2.values, order=ht2.index.values, tick_label = ht2.values);"
   ]
  },
  {
   "cell_type": "code",
   "execution_count": null,
   "metadata": {},
   "outputs": [],
   "source": []
  },
  {
   "cell_type": "markdown",
   "metadata": {},
   "source": [
    "### Zusammenhänge (Kollinearitäten) zwischen numerischen Merkmalen"
   ]
  },
  {
   "cell_type": "code",
   "execution_count": 60,
   "metadata": {},
   "outputs": [
    {
     "data": {
      "text/html": [
       "<div>\n",
       "<style scoped>\n",
       "    .dataframe tbody tr th:only-of-type {\n",
       "        vertical-align: middle;\n",
       "    }\n",
       "\n",
       "    .dataframe tbody tr th {\n",
       "        vertical-align: top;\n",
       "    }\n",
       "\n",
       "    .dataframe thead th {\n",
       "        text-align: right;\n",
       "    }\n",
       "</style>\n",
       "<table border=\"1\" class=\"dataframe\">\n",
       "  <thead>\n",
       "    <tr style=\"text-align: right;\">\n",
       "      <th></th>\n",
       "      <th>start_station_id</th>\n",
       "      <th>end_station_id</th>\n",
       "      <th>start_hour</th>\n",
       "      <th>end_hour</th>\n",
       "      <th>Latitude_start_station</th>\n",
       "      <th>Longitude_start_station</th>\n",
       "      <th>Latitude_end_station</th>\n",
       "      <th>Longitude_end_station</th>\n",
       "    </tr>\n",
       "  </thead>\n",
       "  <tbody>\n",
       "    <tr>\n",
       "      <th>start_station_id</th>\n",
       "      <td>1.000000</td>\n",
       "      <td>0.528976</td>\n",
       "      <td>-0.047416</td>\n",
       "      <td>-0.047174</td>\n",
       "      <td>0.246552</td>\n",
       "      <td>0.383924</td>\n",
       "      <td>0.234865</td>\n",
       "      <td>0.252703</td>\n",
       "    </tr>\n",
       "    <tr>\n",
       "      <th>end_station_id</th>\n",
       "      <td>0.528976</td>\n",
       "      <td>1.000000</td>\n",
       "      <td>0.030742</td>\n",
       "      <td>0.028078</td>\n",
       "      <td>0.218945</td>\n",
       "      <td>0.256364</td>\n",
       "      <td>0.243144</td>\n",
       "      <td>0.393949</td>\n",
       "    </tr>\n",
       "    <tr>\n",
       "      <th>start_hour</th>\n",
       "      <td>-0.047416</td>\n",
       "      <td>0.030742</td>\n",
       "      <td>1.000000</td>\n",
       "      <td>0.954829</td>\n",
       "      <td>-0.038588</td>\n",
       "      <td>-0.032448</td>\n",
       "      <td>0.049207</td>\n",
       "      <td>0.042448</td>\n",
       "    </tr>\n",
       "    <tr>\n",
       "      <th>end_hour</th>\n",
       "      <td>-0.047174</td>\n",
       "      <td>0.028078</td>\n",
       "      <td>0.954829</td>\n",
       "      <td>1.000000</td>\n",
       "      <td>-0.043121</td>\n",
       "      <td>-0.035338</td>\n",
       "      <td>0.042160</td>\n",
       "      <td>0.038500</td>\n",
       "    </tr>\n",
       "    <tr>\n",
       "      <th>Latitude_start_station</th>\n",
       "      <td>0.246552</td>\n",
       "      <td>0.218945</td>\n",
       "      <td>-0.038588</td>\n",
       "      <td>-0.043121</td>\n",
       "      <td>1.000000</td>\n",
       "      <td>-0.134610</td>\n",
       "      <td>0.832780</td>\n",
       "      <td>-0.123934</td>\n",
       "    </tr>\n",
       "    <tr>\n",
       "      <th>Longitude_start_station</th>\n",
       "      <td>0.383924</td>\n",
       "      <td>0.256364</td>\n",
       "      <td>-0.032448</td>\n",
       "      <td>-0.035338</td>\n",
       "      <td>-0.134610</td>\n",
       "      <td>1.000000</td>\n",
       "      <td>-0.118696</td>\n",
       "      <td>0.781183</td>\n",
       "    </tr>\n",
       "    <tr>\n",
       "      <th>Latitude_end_station</th>\n",
       "      <td>0.234865</td>\n",
       "      <td>0.243144</td>\n",
       "      <td>0.049207</td>\n",
       "      <td>0.042160</td>\n",
       "      <td>0.832780</td>\n",
       "      <td>-0.118696</td>\n",
       "      <td>1.000000</td>\n",
       "      <td>-0.130350</td>\n",
       "    </tr>\n",
       "    <tr>\n",
       "      <th>Longitude_end_station</th>\n",
       "      <td>0.252703</td>\n",
       "      <td>0.393949</td>\n",
       "      <td>0.042448</td>\n",
       "      <td>0.038500</td>\n",
       "      <td>-0.123934</td>\n",
       "      <td>0.781183</td>\n",
       "      <td>-0.130350</td>\n",
       "      <td>1.000000</td>\n",
       "    </tr>\n",
       "  </tbody>\n",
       "</table>\n",
       "</div>"
      ],
      "text/plain": [
       "                         start_station_id  end_station_id  start_hour  \\\n",
       "start_station_id                 1.000000        0.528976   -0.047416   \n",
       "end_station_id                   0.528976        1.000000    0.030742   \n",
       "start_hour                      -0.047416        0.030742    1.000000   \n",
       "end_hour                        -0.047174        0.028078    0.954829   \n",
       "Latitude_start_station           0.246552        0.218945   -0.038588   \n",
       "Longitude_start_station          0.383924        0.256364   -0.032448   \n",
       "Latitude_end_station             0.234865        0.243144    0.049207   \n",
       "Longitude_end_station            0.252703        0.393949    0.042448   \n",
       "\n",
       "                         end_hour  Latitude_start_station  \\\n",
       "start_station_id        -0.047174                0.246552   \n",
       "end_station_id           0.028078                0.218945   \n",
       "start_hour               0.954829               -0.038588   \n",
       "end_hour                 1.000000               -0.043121   \n",
       "Latitude_start_station  -0.043121                1.000000   \n",
       "Longitude_start_station -0.035338               -0.134610   \n",
       "Latitude_end_station     0.042160                0.832780   \n",
       "Longitude_end_station    0.038500               -0.123934   \n",
       "\n",
       "                         Longitude_start_station  Latitude_end_station  \\\n",
       "start_station_id                        0.383924              0.234865   \n",
       "end_station_id                          0.256364              0.243144   \n",
       "start_hour                             -0.032448              0.049207   \n",
       "end_hour                               -0.035338              0.042160   \n",
       "Latitude_start_station                 -0.134610              0.832780   \n",
       "Longitude_start_station                 1.000000             -0.118696   \n",
       "Latitude_end_station                   -0.118696              1.000000   \n",
       "Longitude_end_station                   0.781183             -0.130350   \n",
       "\n",
       "                         Longitude_end_station  \n",
       "start_station_id                      0.252703  \n",
       "end_station_id                        0.393949  \n",
       "start_hour                            0.042448  \n",
       "end_hour                              0.038500  \n",
       "Latitude_start_station               -0.123934  \n",
       "Longitude_start_station               0.781183  \n",
       "Latitude_end_station                 -0.130350  \n",
       "Longitude_end_station                 1.000000  "
      ]
     },
     "execution_count": 60,
     "metadata": {},
     "output_type": "execute_result"
    }
   ],
   "source": [
    "df.corr()"
   ]
  },
  {
   "cell_type": "code",
   "execution_count": 61,
   "metadata": {},
   "outputs": [
    {
     "data": {
      "image/png": "[encoded data removed]",
      "text/plain": [
       "<Figure size 720x432 with 2 Axes>"
      ]
     },
     "metadata": {
      "needs_background": "light"
     },
     "output_type": "display_data"
    }
   ],
   "source": [
    "plt.figure(figsize=(10,6))\n",
    "sns.heatmap(df.corr(), annot=True, vmin=-1, vmax=1, cmap=\"RdYlBu\");"
   ]
  },
  {
   "cell_type": "code",
   "execution_count": 7,
   "metadata": {},
   "outputs": [],
   "source": [
    "# Es scheint einen starken positiven Zusammenhang zwischen Startzeit und Endzeit des Ausleihvorgangs zu geben.\n",
    "# Es scheint einen schwachen positiven Zusammenhang zwischen der Start- und der End-Station geben."
   ]
  }
 ],
 "metadata": {
  "kernelspec": {
   "display_name": "Python 3",
   "language": "python",
   "name": "python3"
  },
  "language_info": {
   "codemirror_mode": {
    "name": "ipython",
    "version": 3
   },
   "file_extension": ".py",
   "mimetype": "text/x-python",
   "name": "python",
   "nbconvert_exporter": "python",
   "pygments_lexer": "ipython3",
   "version": "3.7.6"
  }
 },
 "nbformat": 4,
 "nbformat_minor": 4
}
