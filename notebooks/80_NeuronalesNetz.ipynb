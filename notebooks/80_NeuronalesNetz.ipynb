{
 "cells": [
  {
   "cell_type": "markdown",
   "metadata": {},
   "source": [
    "<img src='../images/cbslogo.jpg' width=\"30%\" align=\"left\" />"
   ]
  },
  {
   "cell_type": "markdown",
   "metadata": {},
   "source": [
    "# Modell erstellen mit Hilfe eines künstlichen neuronalen Netzes\n",
    "## - Phase: Data Modelling -"
   ]
  },
  {
   "cell_type": "markdown",
   "metadata": {},
   "source": [
    "In diesem Notebook wird ein Neuronales Netz erzeugt um die Ergebnisse vorherzusagen.\n",
    "Ziel ist eine möglichst hohe Trefferquote zu erzielen.\n",
    "\n",
    "Dieses Notebook nutzt die Dateien\n",
    "    training.pkl und\n",
    "    test.pkl.\n",
    "    \n",
    "In diesem Notebook werden keine weiteren Dateien erzeugt.\n"
   ]
  },
  {
   "cell_type": "markdown",
   "metadata": {},
   "source": [
    "Zunächst wird die Art des neuronalen Netzes definiert, welches verwendet werden soll.\n",
    "\n",
    "Die Implementierung erfolgt mittels der Python Deep Learning Bibliothek Keras. Keras ist eine Bibliothek, welche benutzerorientiert designt wurde. (vergl. https://keras.io/)"
   ]
  },
  {
   "cell_type": "code",
   "execution_count": 1,
   "metadata": {},
   "outputs": [],
   "source": [
    "from keras.models import Sequential\n",
    "from keras.layers import Dense\n",
    "#from sklearn.model_selection import train_test_split # Wird nicht benötigt...\n",
    "import pandas as pd\n",
    "import numpy as np\n"
   ]
  },
  {
   "cell_type": "code",
   "execution_count": 2,
   "metadata": {},
   "outputs": [],
   "source": [
    "DATA_PATH = '../data/'"
   ]
  },
  {
   "cell_type": "markdown",
   "metadata": {},
   "source": [
    "Einlesen der vorbereiteten Test- und Trainingsdaten"
   ]
  },
  {
   "cell_type": "code",
   "execution_count": 3,
   "metadata": {},
   "outputs": [],
   "source": [
    "df_train = pd.read_pickle(DATA_PATH+'training.pkl')\n",
    "df_test =  pd.read_pickle(DATA_PATH+'test.pkl')"
   ]
  },
  {
   "cell_type": "code",
   "execution_count": 4,
   "metadata": {},
   "outputs": [
    {
     "data": {
      "text/html": [
       "<div>\n",
       "<style scoped>\n",
       "    .dataframe tbody tr th:only-of-type {\n",
       "        vertical-align: middle;\n",
       "    }\n",
       "\n",
       "    .dataframe tbody tr th {\n",
       "        vertical-align: top;\n",
       "    }\n",
       "\n",
       "    .dataframe thead th {\n",
       "        text-align: right;\n",
       "    }\n",
       "</style>\n",
       "<table border=\"1\" class=\"dataframe\">\n",
       "  <thead>\n",
       "    <tr style=\"text-align: right;\">\n",
       "      <th></th>\n",
       "      <th>date</th>\n",
       "      <th>count_in</th>\n",
       "      <th>count_out</th>\n",
       "      <th>day_of_week</th>\n",
       "      <th>dewpoint</th>\n",
       "      <th>humidity</th>\n",
       "      <th>precipitation</th>\n",
       "      <th>pressure</th>\n",
       "      <th>temperature</th>\n",
       "      <th>winddirection</th>\n",
       "      <th>...</th>\n",
       "      <th>hour_19</th>\n",
       "      <th>hour_20</th>\n",
       "      <th>hour_21</th>\n",
       "      <th>hour_22</th>\n",
       "      <th>weekday_Friday</th>\n",
       "      <th>weekday_Monday</th>\n",
       "      <th>weekday_Saturday</th>\n",
       "      <th>weekday_Thursday</th>\n",
       "      <th>weekday_Tuesday</th>\n",
       "      <th>weekday_Wednesday</th>\n",
       "    </tr>\n",
       "  </thead>\n",
       "  <tbody>\n",
       "    <tr>\n",
       "      <th>0</th>\n",
       "      <td>2015-01-01</td>\n",
       "      <td>42</td>\n",
       "      <td>54</td>\n",
       "      <td>1</td>\n",
       "      <td>-14.0</td>\n",
       "      <td>29.0</td>\n",
       "      <td>0.0</td>\n",
       "      <td>1026.7</td>\n",
       "      <td>2.2</td>\n",
       "      <td>220.0</td>\n",
       "      <td>...</td>\n",
       "      <td>0</td>\n",
       "      <td>0</td>\n",
       "      <td>0</td>\n",
       "      <td>0</td>\n",
       "      <td>0</td>\n",
       "      <td>0</td>\n",
       "      <td>0</td>\n",
       "      <td>1</td>\n",
       "      <td>0</td>\n",
       "      <td>0</td>\n",
       "    </tr>\n",
       "    <tr>\n",
       "      <th>23</th>\n",
       "      <td>2015-01-01</td>\n",
       "      <td>36</td>\n",
       "      <td>32</td>\n",
       "      <td>1</td>\n",
       "      <td>-9.0</td>\n",
       "      <td>33.0</td>\n",
       "      <td>0.0</td>\n",
       "      <td>1018.8</td>\n",
       "      <td>6.1</td>\n",
       "      <td>210.0</td>\n",
       "      <td>...</td>\n",
       "      <td>0</td>\n",
       "      <td>0</td>\n",
       "      <td>0</td>\n",
       "      <td>0</td>\n",
       "      <td>0</td>\n",
       "      <td>0</td>\n",
       "      <td>0</td>\n",
       "      <td>1</td>\n",
       "      <td>0</td>\n",
       "      <td>0</td>\n",
       "    </tr>\n",
       "    <tr>\n",
       "      <th>22</th>\n",
       "      <td>2015-01-01</td>\n",
       "      <td>57</td>\n",
       "      <td>54</td>\n",
       "      <td>1</td>\n",
       "      <td>-9.2</td>\n",
       "      <td>30.0</td>\n",
       "      <td>0.0</td>\n",
       "      <td>1019.0</td>\n",
       "      <td>7.2</td>\n",
       "      <td>210.0</td>\n",
       "      <td>...</td>\n",
       "      <td>0</td>\n",
       "      <td>0</td>\n",
       "      <td>0</td>\n",
       "      <td>1</td>\n",
       "      <td>0</td>\n",
       "      <td>0</td>\n",
       "      <td>0</td>\n",
       "      <td>1</td>\n",
       "      <td>0</td>\n",
       "      <td>0</td>\n",
       "    </tr>\n",
       "    <tr>\n",
       "      <th>21</th>\n",
       "      <td>2015-01-01</td>\n",
       "      <td>74</td>\n",
       "      <td>71</td>\n",
       "      <td>1</td>\n",
       "      <td>-9.2</td>\n",
       "      <td>30.0</td>\n",
       "      <td>0.0</td>\n",
       "      <td>1019.1</td>\n",
       "      <td>7.2</td>\n",
       "      <td>220.0</td>\n",
       "      <td>...</td>\n",
       "      <td>0</td>\n",
       "      <td>0</td>\n",
       "      <td>1</td>\n",
       "      <td>0</td>\n",
       "      <td>0</td>\n",
       "      <td>0</td>\n",
       "      <td>0</td>\n",
       "      <td>1</td>\n",
       "      <td>0</td>\n",
       "      <td>0</td>\n",
       "    </tr>\n",
       "    <tr>\n",
       "      <th>20</th>\n",
       "      <td>2015-01-01</td>\n",
       "      <td>93</td>\n",
       "      <td>90</td>\n",
       "      <td>1</td>\n",
       "      <td>-10.1</td>\n",
       "      <td>27.0</td>\n",
       "      <td>0.0</td>\n",
       "      <td>1019.5</td>\n",
       "      <td>7.8</td>\n",
       "      <td>240.0</td>\n",
       "      <td>...</td>\n",
       "      <td>0</td>\n",
       "      <td>1</td>\n",
       "      <td>0</td>\n",
       "      <td>0</td>\n",
       "      <td>0</td>\n",
       "      <td>0</td>\n",
       "      <td>0</td>\n",
       "      <td>1</td>\n",
       "      <td>0</td>\n",
       "      <td>0</td>\n",
       "    </tr>\n",
       "  </tbody>\n",
       "</table>\n",
       "<p>5 rows × 45 columns</p>\n",
       "</div>"
      ],
      "text/plain": [
       "         date  count_in  count_out  day_of_week  dewpoint  humidity  \\\n",
       "0  2015-01-01        42         54            1     -14.0      29.0   \n",
       "23 2015-01-01        36         32            1      -9.0      33.0   \n",
       "22 2015-01-01        57         54            1      -9.2      30.0   \n",
       "21 2015-01-01        74         71            1      -9.2      30.0   \n",
       "20 2015-01-01        93         90            1     -10.1      27.0   \n",
       "\n",
       "    precipitation  pressure  temperature  winddirection  ...  hour_19  \\\n",
       "0             0.0    1026.7          2.2          220.0  ...        0   \n",
       "23            0.0    1018.8          6.1          210.0  ...        0   \n",
       "22            0.0    1019.0          7.2          210.0  ...        0   \n",
       "21            0.0    1019.1          7.2          220.0  ...        0   \n",
       "20            0.0    1019.5          7.8          240.0  ...        0   \n",
       "\n",
       "    hour_20  hour_21  hour_22  weekday_Friday  weekday_Monday  \\\n",
       "0         0        0        0               0               0   \n",
       "23        0        0        0               0               0   \n",
       "22        0        0        1               0               0   \n",
       "21        0        1        0               0               0   \n",
       "20        1        0        0               0               0   \n",
       "\n",
       "    weekday_Saturday  weekday_Thursday  weekday_Tuesday  weekday_Wednesday  \n",
       "0                  0                 1                0                  0  \n",
       "23                 0                 1                0                  0  \n",
       "22                 0                 1                0                  0  \n",
       "21                 0                 1                0                  0  \n",
       "20                 0                 1                0                  0  \n",
       "\n",
       "[5 rows x 45 columns]"
      ]
     },
     "execution_count": 4,
     "metadata": {},
     "output_type": "execute_result"
    }
   ],
   "source": [
    "df_train.head()"
   ]
  },
  {
   "cell_type": "code",
   "execution_count": 5,
   "metadata": {},
   "outputs": [
    {
     "data": {
      "text/plain": [
       "(17539, 45)"
      ]
     },
     "execution_count": 5,
     "metadata": {},
     "output_type": "execute_result"
    }
   ],
   "source": [
    "df_train.shape\n"
   ]
  },
  {
   "cell_type": "markdown",
   "metadata": {},
   "source": [
    "###  Training und Vorhersage von zwei Rückgabewerte durch das Neuronale Netz\n",
    "\n",
    "Dieses Kapitel beschreibt die Erstellung und das Testing eines Neuronalen Netzes mit den beiden Zielvariablen Count_in und Count_out also der Anzahl der Ausleihe- und Rückgabevorgänge. "
   ]
  },
  {
   "cell_type": "markdown",
   "metadata": {},
   "source": [
    "Die Eingabedaten für das künstliche Neuronale Netz werden zunnächst in das korrekte Format umgewandelt um mit der Programmiersprache und der Bibliothek Keras arbeiten zu können. \n",
    "Hintergrund ist, dass die Performance extrem langsam ist, wenn als Eingabe ein Pandas Dataframe verwendet wird. (Orginalzitat: \n",
    "\"Directly using Pandas in a neural network would be absolutely ridiculous. The performance would be abysmal.\" (Quelle: https://stackoverflow.com/questions/59892913/pandas-data-frame-used-as-input-for-neural-network))\n",
    "\n",
    "Daher werden die Inputdaten, welche in Form eines Pandas Dataframe vorliegen, zunächst in ein Numpy Array umgewandelt.\n",
    "\n"
   ]
  },
  {
   "cell_type": "code",
   "execution_count": 6,
   "metadata": {},
   "outputs": [],
   "source": [
    "cols = df_train.columns.tolist()"
   ]
  },
  {
   "cell_type": "code",
   "execution_count": 7,
   "metadata": {},
   "outputs": [
    {
     "data": {
      "text/plain": [
       "['date',\n",
       " 'day_of_week',\n",
       " 'dewpoint',\n",
       " 'humidity',\n",
       " 'precipitation',\n",
       " 'pressure',\n",
       " 'temperature',\n",
       " 'winddirection',\n",
       " 'windspeed',\n",
       " 'workingday',\n",
       " 'year',\n",
       " 'Season_Fall',\n",
       " 'Season_Spring',\n",
       " 'Season_Summer',\n",
       " 'hour_0',\n",
       " 'hour_1',\n",
       " 'hour_2',\n",
       " 'hour_3',\n",
       " 'hour_4',\n",
       " 'hour_5',\n",
       " 'hour_6',\n",
       " 'hour_7',\n",
       " 'hour_8',\n",
       " 'hour_9',\n",
       " 'hour_10',\n",
       " 'hour_11',\n",
       " 'hour_12',\n",
       " 'hour_13',\n",
       " 'hour_14',\n",
       " 'hour_15',\n",
       " 'hour_16',\n",
       " 'hour_17',\n",
       " 'hour_18',\n",
       " 'hour_19',\n",
       " 'hour_20',\n",
       " 'hour_21',\n",
       " 'hour_22',\n",
       " 'weekday_Friday',\n",
       " 'weekday_Monday',\n",
       " 'weekday_Saturday',\n",
       " 'weekday_Thursday',\n",
       " 'weekday_Tuesday',\n",
       " 'weekday_Wednesday']"
      ]
     },
     "execution_count": 7,
     "metadata": {},
     "output_type": "execute_result"
    }
   ],
   "source": [
    "# Die Werte entfernen, welche vorhergesagt werden sollen: Count_in und Count_out\n",
    "cols.remove('count_in')\n",
    "cols.remove('count_out')\n",
    "cols"
   ]
  },
  {
   "cell_type": "markdown",
   "metadata": {},
   "source": [
    "Die Zielwerte des neuronalen Netzes definieren, da das Neuronale Netz zwei Werte vorhersagen soll, werden die Attribute count_in und count_out als Zielwerte definiert. \n"
   ]
  },
  {
   "cell_type": "code",
   "execution_count": 8,
   "metadata": {},
   "outputs": [],
   "source": [
    "y_train = df_train[['count_in','count_out']].values\n"
   ]
  },
  {
   "cell_type": "markdown",
   "metadata": {},
   "source": [
    "Die Attribute festlegen, welche für das Training berücksichtigt werden sollen. In diesem  Fall alle Attribute mit Ausnahme von count_out und count_in also der Anzahl der Ausleihe- und Rückgabevorgänge."
   ]
  },
  {
   "cell_type": "code",
   "execution_count": 9,
   "metadata": {},
   "outputs": [],
   "source": [
    "X_train = df_train[cols].values"
   ]
  },
  {
   "cell_type": "markdown",
   "metadata": {},
   "source": [
    "Nachdem die Attribute zugeordnet wurden, werden die Werte nun noch in den Datentyp float umgewandelt, damit sie als Input für das künstliche Neuronale Netzwerk verwendet werden können."
   ]
  },
  {
   "cell_type": "code",
   "execution_count": 11,
   "metadata": {},
   "outputs": [],
   "source": [
    "X_train = np.asarray(X_train).astype(np.float32)"
   ]
  },
  {
   "cell_type": "code",
   "execution_count": 12,
   "metadata": {},
   "outputs": [],
   "source": [
    "y_train = np.asarray(y_train).astype(np.float32)"
   ]
  },
  {
   "cell_type": "markdown",
   "metadata": {},
   "source": [
    "Aufbau eines künstlichen neuronalen Netzes:\n",
    "\n",
    "\n",
    "Ein neuronales Netz besteht aus mindestens drei Schichten. Aus genau einer Eingabeschicht, mindestens einer verdeckten Schicht und exakt einer Ausgabeschicht. Jede Schicht kann hierbei eine verschiedene Anzahl von \"Neuronen\" beinhalten solange jedes Neuron mit einem Vorgänger und einem Nachfolger verbunden ist.\n",
    "\n",
    "Um das Modell des Neuronalen Netzes zu erstellen wird die Methode Sequential aus der Bibliothek Keras verwendet."
   ]
  },
  {
   "cell_type": "code",
   "execution_count": 15,
   "metadata": {},
   "outputs": [],
   "source": [
    "#Modell erstellen.\n",
    "model = Sequential()"
   ]
  },
  {
   "cell_type": "markdown",
   "metadata": {},
   "source": [
    "Das künstliche neuronale Netz wird mit 43 Eingabeneuronen in der Eingabeschicht erstellt. Dies entspricht der Anzahl der Attribute im Trainingsdatensatz. Der Hidden Layer wird mit  100 Neuronen in der ersten Hidden Layer Schicht definiert. "
   ]
  },
  {
   "cell_type": "code",
   "execution_count": 16,
   "metadata": {},
   "outputs": [],
   "source": [
    "\n",
    "# Hidden Layer(100 Neuronen), Input Layer (43 Neuronen)\n",
    "model.add(Dense(100, input_dim=43, kernel_initializer='normal', activation='relu'))"
   ]
  },
  {
   "cell_type": "markdown",
   "metadata": {},
   "source": [
    "Die Ausgabeschicht besteht aus zwei Neuronen, da genau zwei Attribute vorhergesagt werden sollen."
   ]
  },
  {
   "cell_type": "code",
   "execution_count": 17,
   "metadata": {},
   "outputs": [],
   "source": [
    "# Das Output Layer hat zwei Neuronen\n",
    "model.add(Dense(2, kernel_initializer='normal',activation='sigmoid'))"
   ]
  },
  {
   "cell_type": "markdown",
   "metadata": {},
   "source": [
    "In den nächsten beiden Schritten werden die Optimierungs- und Verlustfunktion (sog. Lossfunktion) festgelegt sowie das Modell mit den Trainingsdaten trainiert."
   ]
  },
  {
   "cell_type": "code",
   "execution_count": 18,
   "metadata": {},
   "outputs": [],
   "source": [
    "# Optimierungs- und Lossfunktion festlegen\n",
    "model.compile(optimizer='rmsprop', loss='binary_crossentropy',metrics=['accuracy'])"
   ]
  },
  {
   "cell_type": "code",
   "execution_count": 19,
   "metadata": {},
   "outputs": [
    {
     "name": "stdout",
     "output_type": "stream",
     "text": [
      "Epoch 1/10\n",
      "702/702 [==============================] - 0s 671us/step - loss: nan - accuracy: 0.5489       \n",
      "Epoch 2/10\n",
      "702/702 [==============================] - 0s 641us/step - loss: nan - accuracy: 0.5489\n",
      "Epoch 3/10\n",
      "702/702 [==============================] - 0s 633us/step - loss: nan - accuracy: 0.5489\n",
      "Epoch 4/10\n",
      "702/702 [==============================] - 0s 670us/step - loss: nan - accuracy: 0.5489\n",
      "Epoch 5/10\n",
      "702/702 [==============================] - 0s 631us/step - loss: nan - accuracy: 0.5489\n",
      "Epoch 6/10\n",
      "702/702 [==============================] - 0s 650us/step - loss: nan - accuracy: 0.5489\n",
      "Epoch 7/10\n",
      "702/702 [==============================] - 0s 650us/step - loss: nan - accuracy: 0.5489\n",
      "Epoch 8/10\n",
      "702/702 [==============================] - 0s 644us/step - loss: nan - accuracy: 0.5489\n",
      "Epoch 9/10\n",
      "702/702 [==============================] - 1s 872us/step - loss: nan - accuracy: 0.5489\n",
      "Epoch 10/10\n",
      "702/702 [==============================] - 1s 900us/step - loss: nan - accuracy: 0.5489\n"
     ]
    },
    {
     "data": {
      "text/plain": [
       "<tensorflow.python.keras.callbacks.History at 0x287a5deea48>"
      ]
     },
     "execution_count": 19,
     "metadata": {},
     "output_type": "execute_result"
    }
   ],
   "source": [
    "# Training des Modells\n",
    "model.fit(X_train, y_train, epochs=10, batch_size=25)\n"
   ]
  },
  {
   "cell_type": "markdown",
   "metadata": {},
   "source": [
    "Validierung des Modells auf den Testdaten. \n",
    "\n",
    "Zunächst werden die Testdaten für das Modell vorbereitet. Da künstliche Neuronale Netze \"nur\"  mit Gleitkommazahlen umgehen können werden die Werte hier vorbereitet."
   ]
  },
  {
   "cell_type": "code",
   "execution_count": 22,
   "metadata": {},
   "outputs": [],
   "source": [
    "# Vorbereitung der Testdaten\n",
    "y_test = df_test[['count_in','count_out']].values\n"
   ]
  },
  {
   "cell_type": "code",
   "execution_count": 23,
   "metadata": {},
   "outputs": [],
   "source": [
    "X_test = df_test[cols].values"
   ]
  },
  {
   "cell_type": "code",
   "execution_count": 24,
   "metadata": {},
   "outputs": [],
   "source": [
    "# Werte in Floats umwandeln\n",
    "y_test = np.asarray(y_test).astype(np.float32)\n"
   ]
  },
  {
   "cell_type": "code",
   "execution_count": 25,
   "metadata": {},
   "outputs": [],
   "source": [
    "X_test = np.asarray(X_test).astype(np.float32)"
   ]
  },
  {
   "cell_type": "code",
   "execution_count": 26,
   "metadata": {},
   "outputs": [
    {
     "name": "stdout",
     "output_type": "stream",
     "text": [
      "272/272 [==============================] - 0s 691us/step - loss: nan - accuracy: 0.5299\n",
      "Accuracy Score: 0.5299\n"
     ]
    }
   ],
   "source": [
    "# Evaluation des Modells mit den Testdaten\n",
    "score = model.evaluate(X_test, y_test)\n",
    "print(\"Accuracy Score: \"+str(round(score[1],4)))"
   ]
  },
  {
   "cell_type": "markdown",
   "metadata": {},
   "source": [
    "    "
   ]
  },
  {
   "cell_type": "markdown",
   "metadata": {},
   "source": [
    "###  Training und Vorhersage eines Rückgabewertes durch das Neuronale Netz\n",
    "\n",
    "In diesem Kapitel soll die Anzahl der Ausleihvorgänge (\"count_out\") vorhergesagt werden.\n"
   ]
  },
  {
   "cell_type": "code",
   "execution_count": 19,
   "metadata": {},
   "outputs": [],
   "source": [
    "colssingle = df_train.columns.tolist()"
   ]
  },
  {
   "cell_type": "code",
   "execution_count": 20,
   "metadata": {},
   "outputs": [
    {
     "data": {
      "text/plain": [
       "['date',\n",
       " 'day_of_week',\n",
       " 'dewpoint',\n",
       " 'humidity',\n",
       " 'precipitation',\n",
       " 'pressure',\n",
       " 'temperature',\n",
       " 'winddirection',\n",
       " 'windspeed',\n",
       " 'workingday',\n",
       " 'year',\n",
       " 'Season_Fall',\n",
       " 'Season_Spring',\n",
       " 'Season_Summer',\n",
       " 'hour_0',\n",
       " 'hour_1',\n",
       " 'hour_2',\n",
       " 'hour_3',\n",
       " 'hour_4',\n",
       " 'hour_5',\n",
       " 'hour_6',\n",
       " 'hour_7',\n",
       " 'hour_8',\n",
       " 'hour_9',\n",
       " 'hour_10',\n",
       " 'hour_11',\n",
       " 'hour_12',\n",
       " 'hour_13',\n",
       " 'hour_14',\n",
       " 'hour_15',\n",
       " 'hour_16',\n",
       " 'hour_17',\n",
       " 'hour_18',\n",
       " 'hour_19',\n",
       " 'hour_20',\n",
       " 'hour_21',\n",
       " 'hour_22',\n",
       " 'weekday_Friday',\n",
       " 'weekday_Monday',\n",
       " 'weekday_Saturday',\n",
       " 'weekday_Thursday',\n",
       " 'weekday_Tuesday',\n",
       " 'weekday_Wednesday']"
      ]
     },
     "execution_count": 20,
     "metadata": {},
     "output_type": "execute_result"
    }
   ],
   "source": [
    "colssingle.remove('count_out')\n",
    "colssingle.remove('count_in')\n",
    "colssingle"
   ]
  },
  {
   "cell_type": "code",
   "execution_count": 21,
   "metadata": {},
   "outputs": [],
   "source": [
    "y_trainsingle = df_train[['count_out']].values\n"
   ]
  },
  {
   "cell_type": "code",
   "execution_count": 22,
   "metadata": {},
   "outputs": [],
   "source": [
    "X_trainsingle = df_train[colssingle].values"
   ]
  },
  {
   "cell_type": "code",
   "execution_count": 23,
   "metadata": {},
   "outputs": [],
   "source": [
    "X_trainsingle = np.asarray(X_trainsingle).astype(np.float32)"
   ]
  },
  {
   "cell_type": "code",
   "execution_count": 24,
   "metadata": {},
   "outputs": [],
   "source": [
    "y_trainsingle = np.asarray(y_trainsingle).astype(np.float32)"
   ]
  },
  {
   "cell_type": "code",
   "execution_count": 31,
   "metadata": {},
   "outputs": [],
   "source": [
    "#Modell mit einem Zielwert erstellen.\n",
    "singlemodel = Sequential()"
   ]
  },
  {
   "cell_type": "code",
   "execution_count": 32,
   "metadata": {},
   "outputs": [],
   "source": [
    "# Hidden Layer(100 Neuronen), Input Layer (43 Neuronen)\n",
    "singlemodel.add(Dense(100, input_dim=43, kernel_initializer='normal', activation='relu'))\n",
    "singlemodel.add(Dense(100, input_dim=43, kernel_initializer='normal', activation='relu'))"
   ]
  },
  {
   "cell_type": "code",
   "execution_count": 33,
   "metadata": {},
   "outputs": [],
   "source": [
    "# Das Output Layer hat ein Neuronen\n",
    "singlemodel.add(Dense(1, kernel_initializer='normal',activation='sigmoid'))"
   ]
  },
  {
   "cell_type": "code",
   "execution_count": 34,
   "metadata": {},
   "outputs": [],
   "source": [
    "# Optimierungs- und Lossfunktion festlegen\n",
    "singlemodel.compile(optimizer='rmsprop', loss='binary_crossentropy',metrics=['accuracy'])"
   ]
  },
  {
   "cell_type": "code",
   "execution_count": 35,
   "metadata": {},
   "outputs": [
    {
     "name": "stdout",
     "output_type": "stream",
     "text": [
      "Epoch 1/10\n",
      "702/702 [==============================] - 1s 763us/step - loss: nan - accuracy: 0.0112          \n",
      "Epoch 2/10\n",
      "702/702 [==============================] - 1s 842us/step - loss: nan - accuracy: 0.0112\n",
      "Epoch 3/10\n",
      "702/702 [==============================] - 1s 842us/step - loss: nan - accuracy: 0.0112\n",
      "Epoch 4/10\n",
      "702/702 [==============================] - 1s 786us/step - loss: nan - accuracy: 0.0112\n",
      "Epoch 5/10\n",
      "702/702 [==============================] - 1s 970us/step - loss: nan - accuracy: 0.0112\n",
      "Epoch 6/10\n",
      "702/702 [==============================] - 1s 866us/step - loss: nan - accuracy: 0.0112\n",
      "Epoch 7/10\n",
      "702/702 [==============================] - 1s 1ms/step - loss: nan - accuracy: 0.0112\n",
      "Epoch 8/10\n",
      "702/702 [==============================] - 1s 1ms/step - loss: nan - accuracy: 0.0112\n",
      "Epoch 9/10\n",
      "702/702 [==============================] - 1s 991us/step - loss: nan - accuracy: 0.0112\n",
      "Epoch 10/10\n",
      "702/702 [==============================] - 1s 1ms/step - loss: nan - accuracy: 0.0112\n"
     ]
    },
    {
     "data": {
      "text/plain": [
       "<tensorflow.python.keras.callbacks.History at 0x23406c80c88>"
      ]
     },
     "execution_count": 35,
     "metadata": {},
     "output_type": "execute_result"
    }
   ],
   "source": [
    "# Training des Modells\n",
    "singlemodel.fit(X_trainsingle, y_trainsingle, epochs=10, batch_size=25)"
   ]
  },
  {
   "cell_type": "code",
   "execution_count": 30,
   "metadata": {},
   "outputs": [
    {
     "name": "stdout",
     "output_type": "stream",
     "text": [
      "Epoch 1/50\n",
      "702/702 [==============================] - 1s 765us/step - loss: nan - accuracy: 0.0112\n",
      "Epoch 2/50\n",
      "702/702 [==============================] - 1s 729us/step - loss: nan - accuracy: 0.0112\n",
      "Epoch 3/50\n",
      "702/702 [==============================] - 0s 684us/step - loss: nan - accuracy: 0.0112\n",
      "Epoch 4/50\n",
      "702/702 [==============================] - 0s 684us/step - loss: nan - accuracy: 0.0112\n",
      "Epoch 5/50\n",
      "702/702 [==============================] - 0s 684us/step - loss: nan - accuracy: 0.0112\n",
      "Epoch 6/50\n",
      "702/702 [==============================] - 0s 695us/step - loss: nan - accuracy: 0.0112\n",
      "Epoch 7/50\n",
      "702/702 [==============================] - 0s 638us/step - loss: nan - accuracy: 0.0112\n",
      "Epoch 8/50\n",
      "702/702 [==============================] - 1s 718us/step - loss: nan - accuracy: 0.0112\n",
      "Epoch 9/50\n",
      "702/702 [==============================] - 0s 674us/step - loss: nan - accuracy: 0.0112\n",
      "Epoch 10/50\n",
      "702/702 [==============================] - 1s 721us/step - loss: nan - accuracy: 0.0112\n",
      "Epoch 11/50\n",
      "702/702 [==============================] - 0s 684us/step - loss: nan - accuracy: 0.0112\n",
      "Epoch 12/50\n",
      "702/702 [==============================] - 0s 699us/step - loss: nan - accuracy: 0.0112\n",
      "Epoch 13/50\n",
      "702/702 [==============================] - 0s 683us/step - loss: nan - accuracy: 0.0112\n",
      "Epoch 14/50\n",
      "702/702 [==============================] - 0s 702us/step - loss: nan - accuracy: 0.0112\n",
      "Epoch 15/50\n",
      "702/702 [==============================] - 0s 661us/step - loss: nan - accuracy: 0.0112\n",
      "Epoch 16/50\n",
      "702/702 [==============================] - 0s 707us/step - loss: nan - accuracy: 0.0112\n",
      "Epoch 17/50\n",
      "702/702 [==============================] - 0s 675us/step - loss: nan - accuracy: 0.0112\n",
      "Epoch 18/50\n",
      "702/702 [==============================] - 1s 722us/step - loss: nan - accuracy: 0.0112\n",
      "Epoch 19/50\n",
      "702/702 [==============================] - 0s 679us/step - loss: nan - accuracy: 0.0112\n",
      "Epoch 20/50\n",
      "702/702 [==============================] - 1s 715us/step - loss: nan - accuracy: 0.0112\n",
      "Epoch 21/50\n",
      "702/702 [==============================] - 0s 667us/step - loss: nan - accuracy: 0.0112\n",
      "Epoch 22/50\n",
      "702/702 [==============================] - 0s 700us/step - loss: nan - accuracy: 0.0112\n",
      "Epoch 23/50\n",
      "702/702 [==============================] - 1s 722us/step - loss: nan - accuracy: 0.0112\n",
      "Epoch 24/50\n",
      "702/702 [==============================] - 0s 707us/step - loss: nan - accuracy: 0.0112\n",
      "Epoch 25/50\n",
      "702/702 [==============================] - 0s 707us/step - loss: nan - accuracy: 0.0112\n",
      "Epoch 26/50\n",
      "702/702 [==============================] - 0s 707us/step - loss: nan - accuracy: 0.0112\n",
      "Epoch 27/50\n",
      "702/702 [==============================] - 0s 670us/step - loss: nan - accuracy: 0.0112\n",
      "Epoch 28/50\n",
      "702/702 [==============================] - 0s 686us/step - loss: nan - accuracy: 0.0112\n",
      "Epoch 29/50\n",
      "702/702 [==============================] - 0s 692us/step - loss: nan - accuracy: 0.0112\n",
      "Epoch 30/50\n",
      "702/702 [==============================] - 1s 720us/step - loss: nan - accuracy: 0.0112\n",
      "Epoch 31/50\n",
      "702/702 [==============================] - 0s 697us/step - loss: nan - accuracy: 0.0112\n",
      "Epoch 32/50\n",
      "702/702 [==============================] - 1s 718us/step - loss: nan - accuracy: 0.0112\n",
      "Epoch 33/50\n",
      "702/702 [==============================] - 0s 695us/step - loss: nan - accuracy: 0.0112\n",
      "Epoch 34/50\n",
      "702/702 [==============================] - 0s 695us/step - loss: nan - accuracy: 0.0112\n",
      "Epoch 35/50\n",
      "702/702 [==============================] - 0s 686us/step - loss: nan - accuracy: 0.0112\n",
      "Epoch 36/50\n",
      "702/702 [==============================] - 1s 1ms/step - loss: nan - accuracy: 0.0112\n",
      "Epoch 37/50\n",
      "702/702 [==============================] - 1s 1ms/step - loss: nan - accuracy: 0.0112\n",
      "Epoch 38/50\n",
      "702/702 [==============================] - 1s 774us/step - loss: nan - accuracy: 0.0112\n",
      "Epoch 39/50\n",
      "702/702 [==============================] - 1s 735us/step - loss: nan - accuracy: 0.0112\n",
      "Epoch 40/50\n",
      "702/702 [==============================] - 1s 753us/step - loss: nan - accuracy: 0.0112\n",
      "Epoch 41/50\n",
      "702/702 [==============================] - 1s 989us/step - loss: nan - accuracy: 0.0112\n",
      "Epoch 42/50\n",
      "702/702 [==============================] - 1s 752us/step - loss: nan - accuracy: 0.0112\n",
      "Epoch 43/50\n",
      "702/702 [==============================] - 1s 778us/step - loss: nan - accuracy: 0.0112\n",
      "Epoch 44/50\n",
      "702/702 [==============================] - 1s 782us/step - loss: nan - accuracy: 0.0112\n",
      "Epoch 45/50\n",
      "702/702 [==============================] - 1s 786us/step - loss: nan - accuracy: 0.0112\n",
      "Epoch 46/50\n",
      "702/702 [==============================] - 1s 800us/step - loss: nan - accuracy: 0.0112\n",
      "Epoch 47/50\n",
      "702/702 [==============================] - 1s 752us/step - loss: nan - accuracy: 0.0112\n",
      "Epoch 48/50\n",
      "702/702 [==============================] - 1s 765us/step - loss: nan - accuracy: 0.0112\n",
      "Epoch 49/50\n",
      "702/702 [==============================] - 1s 775us/step - loss: nan - accuracy: 0.0112\n",
      "Epoch 50/50\n",
      "702/702 [==============================] - 1s 796us/step - loss: nan - accuracy: 0.0112\n"
     ]
    },
    {
     "data": {
      "text/plain": [
       "<tensorflow.python.keras.callbacks.History at 0x23406c3e188>"
      ]
     },
     "execution_count": 30,
     "metadata": {},
     "output_type": "execute_result"
    }
   ],
   "source": [
    "# Training des Modells\n",
    "singlemodel.fit(X_trainsingle, y_trainsingle, epochs=50, batch_size=25)"
   ]
  },
  {
   "cell_type": "code",
   "execution_count": 36,
   "metadata": {},
   "outputs": [],
   "source": [
    "# Vorbereitung der Testdaten\n",
    "y_testsingle = df_test[['count_out']].values"
   ]
  },
  {
   "cell_type": "code",
   "execution_count": 37,
   "metadata": {},
   "outputs": [],
   "source": [
    "X_testsingle = df_test[colssingle].values"
   ]
  },
  {
   "cell_type": "code",
   "execution_count": 38,
   "metadata": {},
   "outputs": [],
   "source": [
    "# Werte in Floats umwandeln\n",
    "y_testsingle = np.asarray(y_testsingle).astype(np.float32)"
   ]
  },
  {
   "cell_type": "code",
   "execution_count": 39,
   "metadata": {},
   "outputs": [],
   "source": [
    "X_testsingle = np.asarray(X_testsingle).astype(np.float32)"
   ]
  },
  {
   "cell_type": "code",
   "execution_count": 41,
   "metadata": {},
   "outputs": [
    {
     "name": "stdout",
     "output_type": "stream",
     "text": [
      "272/272 [==============================] - 0s 622us/step - loss: nan - accuracy: 0.0025\n",
      "Accuracy Score: 0.0025\n"
     ]
    }
   ],
   "source": [
    "# Evaluation des Modells mit den Test\n",
    "scoresingle = singlemodel.evaluate(X_testsingle, y_testsingle)\n",
    "print(\"Accuracy Score: \"+str(round(scoresingle[1],4)))"
   ]
  },
  {
   "cell_type": "markdown",
   "metadata": {},
   "source": [
    "   "
   ]
  },
  {
   "cell_type": "markdown",
   "metadata": {},
   "source": [
    "###  Ergebnisse:\n",
    "\n",
    "In der aktuellen Konfiguration hat das neuronale Netz mit mehreren Rückgabewerten bessere Accurancy Werte als das trainierte Neuronale Netz mit nur einem Rückgabewert."
   ]
  },
  {
   "cell_type": "markdown",
   "metadata": {},
   "source": [
    "### Ausblick:\n",
    "    \n",
    "Das aktuelle Modell des neuronalen Netzes ist eher minimalistisch gestaltet um die Vorhersagegenauigkeit zu erhöhen, können folgende Parameter erhöht werden:\n",
    "\n",
    "\n",
    "    Die Anzahl der Zwischenschichten kann erhöht werden. \n",
    "    \n",
    "    Die Anzahl der Neuronen je Zwischenschicht kann erhöht werden.\n",
    "    \n",
    "    Unterschiedliche Optimierungsfunktionen und Loosfunktionen können getestet werden.\n",
    "    \n",
    "    Die Aktivierungsfunktion der Neuronen im Neuronalen Netz kann ausgetauscht werden. \n",
    "    \n",
    "Folgende Werte können nicht ausgetauscht werden, da diese den Business Case ändern würden:\n",
    "        \n",
    "    Die Anzahl der Input Neuronen\n",
    "        \n",
    "    Die Anzahl der Output Neuronen\n",
    "   \n",
    "Da das Modell für den Business Case gut genug ist, werden diese Parameter nicht weiter getestet.\n",
    "        "
   ]
  },
  {
   "cell_type": "code",
   "execution_count": null,
   "metadata": {},
   "outputs": [],
   "source": []
  }
 ],
 "metadata": {
  "kernelspec": {
   "display_name": "Python 3",
   "language": "python",
   "name": "python3"
  },
  "language_info": {
   "codemirror_mode": {
    "name": "ipython",
    "version": 3
   },
   "file_extension": ".py",
   "mimetype": "text/x-python",
   "name": "python",
   "nbconvert_exporter": "python",
   "pygments_lexer": "ipython3",
   "version": "3.7.6"
  }
 },
 "nbformat": 4,
 "nbformat_minor": 4
}
